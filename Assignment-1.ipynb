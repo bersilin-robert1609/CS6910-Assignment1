{
 "cells": [
  {
   "cell_type": "code",
   "execution_count": 53,
   "metadata": {},
   "outputs": [],
   "source": [
    "import numpy as np\n",
    "import pandas as pd\n",
    "import matplotlib.pyplot as plt\n",
    "import sklearn as sk\n",
    "from sklearn.model_selection import train_test_split"
   ]
  },
  {
   "cell_type": "code",
   "execution_count": 54,
   "metadata": {},
   "outputs": [],
   "source": [
    "WANDB_PROJECT = \"myprojectname\"\n",
    "WANDB_ENTITY = \"myname\"\n",
    "DATASET = \"fashion_mnist\"\n",
    "EPOCHS = 10\n",
    "BATCH_SIZE = 128\n",
    "LOSS = \"cross_entropy\"\n",
    "OPTIMIZER = \"sgd\"\n",
    "LEARNING_RATE = 0.01\n",
    "MOMENTUM = 0.5\n",
    "BETA = 0.5\n",
    "BETA1 = 0.5\n",
    "BETA2 = 0.5\n",
    "EPSILON = 1e-6\n",
    "WEIGHT_DECAY = 0.0\n",
    "WEIGHT_INIT = \"random\"\n",
    "NUM_LAYERS = 4\n",
    "HIDDEN_SIZE = 128\n",
    "ACTIVATION = \"sigmoid\""
   ]
  },
  {
   "cell_type": "code",
   "execution_count": 55,
   "metadata": {},
   "outputs": [],
   "source": [
    "from keras.datasets import fashion_mnist\n",
    "\n",
    "# Load the data\n",
    "(x_train, y_train), (x_test, y_test) = fashion_mnist.load_data()\n",
    "\n",
    "# Normalize the data\n",
    "x_train = x_train / 255.0\n",
    "x_test = x_test / 255.0"
   ]
  },
  {
   "cell_type": "code",
   "execution_count": 56,
   "metadata": {},
   "outputs": [],
   "source": [
    "class FFNeuralNetwork():\n",
    "    def __init__(self, \n",
    "                neurons=HIDDEN_SIZE, \n",
    "                hid_layers=NUM_LAYERS, \n",
    "                input_size=784, \n",
    "                output_size=10, \n",
    "                act_func=ACTIVATION, \n",
    "                weight_init=WEIGHT_INIT, \n",
    "                out_act_func=\"softmax\",\n",
    "                init_toggle=True):\n",
    "                \n",
    "        self.neurons, self.hidden_layers = neurons, hid_layers\n",
    "        self.weights, self.biases = [], []\n",
    "        self.input_size, self.output_size = input_size, output_size\n",
    "        self.activation_function, self.weight_init = act_func, weight_init\n",
    "        self.output_activation_function = out_act_func\n",
    "\n",
    "        if init_toggle:\n",
    "            self.initialize_weights()\n",
    "            self.initiate_biases()\n",
    "\n",
    "    def initialize_weights(self):\n",
    "        self.weights.append(np.random.randn(self.input_size, self.neurons))\n",
    "        for _ in range(self.hidden_layers - 1):\n",
    "            self.weights.append(np.random.randn(self.neurons, self.neurons))\n",
    "        self.weights.append(np.random.randn(self.neurons, self.output_size))\n",
    "\n",
    "        if self.weight_init == \"xavier\":\n",
    "            for i in range(len(self.weights)):\n",
    "                self.weights[i] = self.weights[i] / np.sqrt(self.weights[i].shape[0])\n",
    "\n",
    "    def initiate_biases(self):\n",
    "        for _ in range(self.hidden_layers):\n",
    "            self.biases.append(np.random.randn(self.neurons))\n",
    "        self.biases.append(np.random.randn(self.output_size))\n",
    "    \n",
    "    def activation(self, x):\n",
    "        if self.activation_function == \"sigmoid\":\n",
    "            return 1 / (1 + np.exp(-x))\n",
    "        elif self.activation_function == \"tanh\":\n",
    "            return np.tanh(x)\n",
    "        elif self.activation_function == \"ReLU\":\n",
    "            return np.maximum(0, x)\n",
    "        else:\n",
    "            raise Exception(\"Invalid activation function\")\n",
    "    \n",
    "    def output_activation(self, x):\n",
    "        if self.output_activation_function == \"softmax\":\n",
    "            max_x = np.max(x, axis=1)\n",
    "            max_x = max_x.reshape(max_x.shape[0], 1)\n",
    "            exp_x = np.exp(x - max_x)\n",
    "            softmax_mat = exp_x / np.sum(exp_x, axis=1).reshape(exp_x.shape[0], 1)\n",
    "            # change 0s to 1e-10\n",
    "            softmax_mat[softmax_mat == 0] = 1e-10\n",
    "            return softmax_mat\n",
    "        else:\n",
    "            raise Exception(\"Invalid output activation function\")\n",
    "    \n",
    "    def forward(self, x):\n",
    "        self.pre_activation, self.post_activation = [x], [x]\n",
    "\n",
    "        for i in range(self.hidden_layers):\n",
    "            self.pre_activation.append(np.matmul(self.post_activation[-1], self.weights[i]) + self.biases[i])\n",
    "            self.post_activation.append(self.activation(self.pre_activation[-1]))\n",
    "            \n",
    "        self.pre_activation.append(np.matmul(self.post_activation[-1], self.weights[-1]) + self.biases[-1])\n",
    "        self.post_activation.append(self.output_activation(self.pre_activation[-1]))\n",
    "\n",
    "        return self.post_activation[-1]"
   ]
  },
  {
   "cell_type": "code",
   "execution_count": 57,
   "metadata": {},
   "outputs": [],
   "source": [
    "def loss(loss, y, y_pred):\n",
    "    if loss == \"cross_entropy\":\n",
    "        return -np.sum(y * np.log(y_pred))\n",
    "    elif loss == \"mean_squared\":\n",
    "        return np.sum((y - y_pred) ** 2) / 2\n",
    "    else:\n",
    "        raise Exception(\"Invalid loss function\")"
   ]
  },
  {
   "cell_type": "code",
   "execution_count": 58,
   "metadata": {},
   "outputs": [],
   "source": [
    "class Backpropagation():\n",
    "    def __init__(self, \n",
    "                 nn: FFNeuralNetwork, \n",
    "                 loss=LOSS, \n",
    "                 act_func=ACTIVATION):\n",
    "        \n",
    "        self.nn, self.loss, self.activation_function = nn, loss, act_func\n",
    "    \n",
    "    def loss_derivative(self, y, y_pred):\n",
    "        if self.loss == \"cross_entropy\":\n",
    "            return -y / y_pred\n",
    "        elif self.loss == \"mse\":\n",
    "            return 2 * (y_pred - y)\n",
    "        else:\n",
    "            raise Exception(\"Invalid loss function\")\n",
    "        \n",
    "    def activation_derivative(self, x):\n",
    "        # x is the post-activation value\n",
    "        if self.activation_function == \"sigmoid\":\n",
    "            return x * (1 - x)\n",
    "        elif self.activation_function == \"tanh\":\n",
    "            return 1 - x ** 2\n",
    "        elif self.activation_function == \"ReLU\":\n",
    "            return 1 * (x > 0)\n",
    "        else:\n",
    "            raise Exception(\"Invalid activation function\")\n",
    "        \n",
    "    def output_activation_derivative(self, y, y_pred):\n",
    "        # x is the post-activation value\n",
    "        if self.nn.output_activation_function == \"softmax\":\n",
    "            return y_pred - y\n",
    "        else:\n",
    "            raise Exception(\"Invalid output activation function\")\n",
    "    \n",
    "    def backward(self, y, y_pred):\n",
    "        self.d_weights, self.d_biases = [], []\n",
    "        self.d_h, self.d_a = [], []\n",
    "\n",
    "        self.d_h.append(self.loss_derivative(y, y_pred))\n",
    "        self.d_a.append(self.output_activation_derivative(y, y_pred))\n",
    "\n",
    "        for i in range(self.nn.hidden_layers, 0, -1):\n",
    "            self.d_weights.append(np.matmul(self.nn.post_activation[i].T, self.d_a[-1]))\n",
    "            self.d_biases.append(np.sum(self.d_a[-1], axis=0))\n",
    "            self.d_h.append(np.matmul(self.d_a[-1], self.nn.weights[i].T))\n",
    "            self.d_a.append(self.d_h[-1] * self.activation_derivative(self.nn.post_activation[i]))\n",
    "\n",
    "        self.d_weights.append(np.matmul(self.nn.post_activation[0].T, self.d_a[-1]))\n",
    "        self.d_biases.append(np.sum(self.d_a[-1], axis=0))\n",
    "\n",
    "        self.d_weights.reverse()\n",
    "        self.d_biases.reverse()\n",
    "\n",
    "        return self.d_weights, self.d_biases"
   ]
  },
  {
   "cell_type": "code",
   "execution_count": 59,
   "metadata": {},
   "outputs": [],
   "source": [
    "class Optimiser():\n",
    "    def __init__(self, \n",
    "                 nn: FFNeuralNetwork, \n",
    "                 bp:Backpropagation, \n",
    "                 lr=LEARNING_RATE, \n",
    "                 optimiser=OPTIMIZER, \n",
    "                 momentum=MOMENTUM,\n",
    "                 epsilon=EPSILON,\n",
    "                 beta1=BETA1,\n",
    "                 beta2=BETA2, \n",
    "                 t=0):\n",
    "        \n",
    "        self.nn, self.bp, self.lr, self.optimiser = nn, bp, lr, optimiser\n",
    "        self.momentum, self.epsilon, self.beta1, self.beta2 = momentum, epsilon, beta1, beta2\n",
    "        self.h_weights = [np.zeros_like(w) for w in self.nn.weights]\n",
    "        self.h_biases = [np.zeros_like(b) for b in self.nn.biases]\n",
    "        self.hm_weights = [np.zeros_like(w) for w in self.nn.weights]\n",
    "        self.hm_biases = [np.zeros_like(b) for b in self.nn.biases]\n",
    "        self.t = t\n",
    "\n",
    "    def run(self, d_weights, d_biases, y, x):\n",
    "        if(self.optimiser == \"sgd\"):\n",
    "            self.SGD(d_weights, d_biases)\n",
    "        elif(self.optimiser == \"momentum\"):\n",
    "            self.MomentumGD(d_weights, d_biases)\n",
    "        elif(self.optimiser == \"nag\"):\n",
    "            self.NAG(d_weights, d_biases)\n",
    "        elif (self.optimiser == \"nag2\"):\n",
    "            self.NAG2(y, x)\n",
    "        elif(self.optimiser == \"rmsprop\"):\n",
    "            self.RMSProp(d_weights, d_biases)\n",
    "        elif(self.optimiser == \"adam\"):\n",
    "            self.Adam(d_weights, d_biases)\n",
    "        elif (self.optimiser == \"nadam\"):\n",
    "            self.NAdam(d_weights, d_biases)\n",
    "        else:\n",
    "            raise Exception(\"Invalid optimiser\")\n",
    "    \n",
    "    def SGD(self, d_weights, d_biases):\n",
    "        for i in range(self.nn.hidden_layers + 1):\n",
    "            self.nn.weights[i] -= self.lr * d_weights[i]\n",
    "            self.nn.biases[i] -= self.lr * d_biases[i]\n",
    "\n",
    "    def MomentumGD(self, d_weights, d_biases):\n",
    "        for i in range(self.nn.hidden_layers + 1):\n",
    "            self.h_weights[i] = self.momentum * self.h_weights[i] + d_weights[i]\n",
    "            self.h_biases[i] = self.momentum * self.h_biases[i] + d_biases[i]\n",
    "\n",
    "            self.nn.weights[i] -= self.h_weights[i] * self.lr\n",
    "            self.nn.biases[i] -= self.h_biases[i] * self.lr\n",
    "\n",
    "    def NAG(self, d_weights, d_biases):        \n",
    "        for i in range(self.nn.hidden_layers + 1):\n",
    "            self.h_weights[i] = self.momentum * self.h_weights[i] + d_weights[i]\n",
    "            self.h_biases[i] = self.momentum * self.h_biases[i] + d_biases[i]\n",
    "\n",
    "            self.nn.weights[i] -= self.lr * (self.momentum * self.h_weights[i] + d_weights[i])\n",
    "            self.nn.biases[i] -= self.lr * (self.momentum * self.h_biases[i] + d_biases[i])\n",
    "\n",
    "    def NAG2(self, y, x):\n",
    "        nn_new = FFNeuralNetwork(neurons = self.nn.neurons,\n",
    "                                 input_size = self.nn.input_size,\n",
    "                                 output_size = self.nn.output_size,\n",
    "                                 hid_layers = self.nn.hidden_layers,\n",
    "                                 act_func = self.nn.activation_function,\n",
    "                                 out_act_func = self.nn.output_activation_function,\n",
    "                                 weight_init = self.nn.weight_init,\n",
    "                                 init_toggle = False)\n",
    "        \n",
    "        bp_new = Backpropagation(nn = nn_new, \n",
    "                                 loss = self.bp.loss,\n",
    "                                 act_func = self.bp.activation_function)\n",
    "        \n",
    "        nn_new.weights = [w - self.momentum * self.h_weights[i] for i, w in enumerate(self.nn.weights)]\n",
    "        nn_new.biases = [b - self.momentum * self.h_biases[i] for i, b in enumerate(self.nn.biases)]\n",
    "\n",
    "        y_pred_new = nn_new.forward(x)\n",
    "        d_weights_new, d_biases_new = bp_new.backward(y, y_pred_new)\n",
    "\n",
    "        for i in range(self.nn.hidden_layers + 1):\n",
    "            self.h_weights[i] = self.momentum * self.h_weights[i] + d_weights_new[i]\n",
    "            self.h_biases[i] = self.momentum * self.h_biases[i] + d_biases_new[i]\n",
    "\n",
    "            self.nn.weights[i] -= self.h_weights[i] * self.lr\n",
    "            self.nn.biases[i] -= self.h_biases[i] * self.lr\n",
    "\n",
    "    def RMSProp(self, d_weights, d_biases):\n",
    "        for i in range(self.nn.hidden_layers + 1):\n",
    "            self.h_weights[i] = self.momentum * self.h_weights[i] + (1 - self.momentum) * d_weights[i]**2\n",
    "            self.h_biases[i] = self.momentum * self.h_biases[i] + (1 - self.momentum) * d_biases[i]**2\n",
    "\n",
    "            self.nn.weights[i] -= (self.lr / (np.sqrt(self.h_weights[i]) + self.epsilon)) * d_weights[i]\n",
    "            self.nn.biases[i] -= (self.lr / (np.sqrt(self.h_biases[i]) + self.epsilon)) * d_biases[i]\n",
    "\n",
    "    def Adam(self, d_weights, d_biases):\n",
    "        for i in range(self.nn.hidden_layers + 1):\n",
    "            self.hm_weights[i] = self.beta1 * self.hm_weights[i] + (1 - self.beta1) * d_weights[i]\n",
    "            self.hm_biases[i] = self.beta1 * self.hm_biases[i] + (1 - self.beta1) * d_biases[i]\n",
    "\n",
    "            self.h_weights[i] = self.beta2 * self.h_weights[i] + (1 - self.beta2) * d_weights[i]**2\n",
    "            self.h_biases[i] = self.beta2 * self.h_biases[i] + (1 - self.beta2) * d_biases[i]**2\n",
    "\n",
    "            self.hm_weights_hat = self.hm_weights[i] / (1 - self.beta1**(self.t + 1))\n",
    "            self.hm_biases_hat = self.hm_biases[i] / (1 - self.beta1**(self.t + 1))\n",
    "\n",
    "            self.h_weights_hat = self.h_weights[i] / (1 - self.beta2**(self.t + 1))\n",
    "            self.h_biases_hat = self.h_biases[i] / (1 - self.beta2**(self.t + 1))\n",
    "\n",
    "            self.nn.weights[i] -= self.lr * (self.hm_weights_hat / ((np.sqrt(self.h_weights_hat)) + self.epsilon))\n",
    "            self.nn.biases[i] -= self.lr * (self.hm_biases_hat / ((np.sqrt(self.h_biases_hat)) + self.epsilon))\n",
    "\n",
    "    def NAdam(self, d_weights, d_biases):\n",
    "        for i in range(self.nn.hidden_layers + 1):\n",
    "            self.hm_weights[i] = self.beta1 * self.hm_weights[i] + (1 - self.beta1) * d_weights[i]\n",
    "            self.hm_biases[i] = self.beta1 * self.hm_biases[i] + (1 - self.beta1) * d_biases[i]\n",
    "\n",
    "            self.h_weights[i] = self.beta2 * self.h_weights[i] + (1 - self.beta2) * d_weights[i]**2\n",
    "            self.h_biases[i] = self.beta2 * self.h_biases[i] + (1 - self.beta2) * d_biases[i]**2\n",
    "\n",
    "            self.hm_weights_hat = self.hm_weights[i] / (1 - self.beta1 ** (self.t + 1))\n",
    "            self.hm_biases_hat = self.hm_biases[i] / (1 - self.beta1 ** (self.t + 1))\n",
    "\n",
    "            self.h_weights_hat = self.h_weights[i] / (1 - self.beta2 ** (self.t + 1))\n",
    "            self.h_biases_hat = self.h_biases[i] / (1 - self.beta2 ** (self.t + 1))\n",
    "\n",
    "            temp_update_w = self.beta1 * self.hm_weights_hat + ((1 - self.beta1) / (1 - self.beta1 ** (self.t + 1))) * d_weights[i]\n",
    "            temp_update_b = self.beta1 * self.hm_biases_hat + ((1 - self.beta1) / (1 - self.beta1 ** (self.t + 1))) * d_biases[i]\n",
    "\n",
    "            self.nn.weights[i] -= self.lr * (temp_update_w / ((np.sqrt(self.h_weights_hat)) + self.epsilon))\n",
    "            self.nn.biases[i] -= self.lr * (temp_update_b / ((np.sqrt(self.h_biases_hat)) + self.epsilon))"
   ]
  },
  {
   "cell_type": "code",
   "execution_count": 60,
   "metadata": {},
   "outputs": [
    {
     "name": "stderr",
     "output_type": "stream",
     "text": [
      "\u001b[34m\u001b[1mwandb\u001b[0m: \u001b[33mWARNING\u001b[0m Calling wandb.login() after wandb.init() has no effect.\n"
     ]
    }
   ],
   "source": [
    "import wandb\n",
    "wandb.login()\n",
    "wandb.WANDB_NOTEBOOK_NAME = \"Assignment1.ipynb\""
   ]
  },
  {
   "cell_type": "code",
   "execution_count": 61,
   "metadata": {},
   "outputs": [
    {
     "name": "stderr",
     "output_type": "stream",
     "text": [
      "Exception in thread SystemMonitor:\n",
      "Traceback (most recent call last):\n",
      "  File \"/usr/lib/python3.10/threading.py\", line 1016, in _bootstrap_inner\n",
      "    self.run()\n",
      "  File \"/usr/lib/python3.10/threading.py\", line 953, in run\n",
      "    self._target(*self._args, **self._kwargs)\n",
      "  File \"/home/bersi/.local/lib/python3.10/site-packages/wandb/sdk/internal/system/system_monitor.py\", line 118, in _start\n",
      "    asset.start()\n",
      "  File \"/home/bersi/.local/lib/python3.10/site-packages/wandb/sdk/internal/system/assets/cpu.py\", line 166, in start\n",
      "    self.metrics_monitor.start()\n",
      "  File \"/home/bersi/.local/lib/python3.10/site-packages/wandb/sdk/internal/system/assets/interfaces.py\", line 168, in start\n",
      "    logger.info(f\"Started {self._process.name}\")\n",
      "AttributeError: 'NoneType' object has no attribute 'name'\n"
     ]
    }
   ],
   "source": [
    "sweep_configuration = {\n",
    "    'method': 'random',\n",
    "    'name': 'sweep',\n",
    "    'metric': {\n",
    "        'goal': 'maximize',\n",
    "        'name': 'val_accuracy'\n",
    "    },\n",
    "    'parameters': {\n",
    "        'batch_size': {\n",
    "            'values': [16, 32, 64, 128, 256]\n",
    "        },\n",
    "        'learning_rate': {\n",
    "            'values': [0.0001, 0.002, 0.005, 0.001, 0.005, 0.01, 0.05, 0.1]\n",
    "        },\n",
    "        'neurons': {\n",
    "            'values': [32, 64, 128, 256, 512, 1024]\n",
    "        },\n",
    "        'hidden_layers': {\n",
    "            'values': [1, 2, 3, 4, 5]\n",
    "        },\n",
    "        'activation': {\n",
    "            'values': ['ReLU', 'tanh', 'sigmoid']\n",
    "        },\n",
    "        'weight_init': {\n",
    "            'values': ['Xavier', 'random']\n",
    "        },\n",
    "        'optimiser': {\n",
    "            'values': ['sgd', 'momentum', 'nag', 'rmsprop', 'adam', 'nadam']\n",
    "        },\n",
    "        'momentum': {\n",
    "            'values': [0.4, 0.5, 0.6, 0.7]\n",
    "        },\n",
    "        'input_size': {\n",
    "            'value': 784\n",
    "        },\n",
    "        'output_size': {\n",
    "            'value': 10\n",
    "        },\n",
    "        'loss': {\n",
    "            'value': 'cross_entropy'\n",
    "        },\n",
    "        'epochs': {\n",
    "            'value': 10\n",
    "        },\n",
    "        'beta1': {\n",
    "            'value': 0.9\n",
    "        },\n",
    "        'beta2': {\n",
    "            'value': 0.999\n",
    "        },\n",
    "        'output_activation': {\n",
    "            'value': 'softmax'\n",
    "        },\n",
    "        'epsilon': {\n",
    "            'value': 1e-8\n",
    "        }\n",
    "    }\n",
    "}"
   ]
  },
  {
   "cell_type": "code",
   "execution_count": 62,
   "metadata": {},
   "outputs": [],
   "source": [
    "def load_data(type):\n",
    "    (x, y), (x_test, y_test) = fashion_mnist.load_data()\n",
    "\n",
    "    if type == 'train':\n",
    "        x = x.reshape(x.shape[0], 784)\n",
    "        x = x.astype('float32')\n",
    "        x /= 255\n",
    "        # change y to one hot\n",
    "        y = np.eye(10)[y]\n",
    "        return x, y\n",
    "    elif type == 'test':\n",
    "        x_test = x_test.reshape(x_test.shape[0], 784)\n",
    "        x_test = x_test.astype('float32')\n",
    "        x_test /= 255\n",
    "        # change y to one hot\n",
    "        y_test = np.eye(10)[y_test]\n",
    "        return x_test, y_test"
   ]
  },
  {
   "cell_type": "code",
   "execution_count": 63,
   "metadata": {},
   "outputs": [],
   "source": [
    "def train():\n",
    "    x_train, y_train = load_data('train')\n",
    "\n",
    "    run = wandb.init(project=\"sweep-hyperparameters - 1\")\n",
    "    parameters = wandb.config\n",
    "    run.name = f\"{parameters['activation']}_neurons={parameters['neurons']}_layers={parameters['hidden_layers']}_lr={parameters['learning_rate']}_batch={parameters['batch_size']}_opt={parameters['optimiser']}_mom={parameters['momentum']}_init={parameters['weight_init']}\"\n",
    "    \n",
    "    nn = FFNeuralNetwork(input_size=parameters['input_size'], \n",
    "                         hid_layers=parameters['hidden_layers'], \n",
    "                         neurons=parameters['neurons'], \n",
    "                         output_size=parameters['output_size'], \n",
    "                         act_func=parameters['activation'], \n",
    "                         out_act_func=parameters['output_activation'],\n",
    "                         weight_init=parameters['weight_init'])\n",
    "    bp = Backpropagation(nn=nn, \n",
    "                         loss=parameters['loss'],\n",
    "                         act_func=parameters['activation'])\n",
    "    opt = Optimiser(nn=nn,\n",
    "                    bp=bp,\n",
    "                    lr=parameters['learning_rate'],\n",
    "                    optimiser=parameters['optimiser'],\n",
    "                    momentum=parameters['momentum'],\n",
    "                    epsilon=parameters['epsilon'],\n",
    "                    beta1=parameters['beta1'],\n",
    "                    beta2=parameters['beta2'])\n",
    "    \n",
    "    batch_size = parameters['batch_size']\n",
    "    x_train_act, x_val, y_train_act, y_val = train_test_split(x_train, y_train, test_size=0.1, random_state=42)\n",
    "\n",
    "    print(\"Initial Accuracy: {}\".format(np.sum(np.argmax(nn.forward(x_train), axis=1) == np.argmax(y_train, axis=1)) / y_train.shape[0]))\n",
    "\n",
    "    for epoch in range(parameters['epochs']):\n",
    "        for i in range(0, x_train_act.shape[0], batch_size):\n",
    "            x_batch = x_train_act[i:i+batch_size]\n",
    "            y_batch = y_train_act[i:i+batch_size]\n",
    "\n",
    "            y_pred = nn.forward(x_batch)\n",
    "            d_weights, d_biases = bp.backward(y_batch, y_pred)\n",
    "            opt.run(d_weights, d_biases, y_batch, x_batch)\n",
    "        \n",
    "        opt.t += 1\n",
    "\n",
    "        y_pred = nn.forward(x_train_act)\n",
    "        print(\"Epoch: {}, Loss: {}\".format(epoch + 1, loss(\"cross_entropy\", y_train_act, y_pred)))\n",
    "        print(\"Accuracy: {}\".format(np.sum(np.argmax(y_pred, axis=1) == np.argmax(y_train_act, axis=1)) / y_train_act.shape[0]))\n",
    "\n",
    "        train_loss = loss(\"cross_entropy\", y_train_act, y_pred)\n",
    "        train_accuracy = np.sum(np.argmax(y_pred, axis=1) == np.argmax(y_train_act, axis=1)) / y_train_act.shape[0]\n",
    "        val_loss = loss(\"cross_entropy\", y_val, nn.forward(x_val))\n",
    "        val_accuracy = np.sum(np.argmax(nn.forward(x_val), axis=1) == np.argmax(y_val, axis=1)) / y_val.shape[0]\n",
    "\n",
    "        wandb.log({\n",
    "            \"epoch\": epoch + 1,\n",
    "            \"train_loss\": train_loss,\n",
    "            \"train_accuracy\": train_accuracy,\n",
    "            \"val_loss\": val_loss,\n",
    "            \"val_accuracy\": val_accuracy\n",
    "        })\n",
    "    \n",
    "    return nn"
   ]
  },
  {
   "cell_type": "code",
   "execution_count": 52,
   "metadata": {},
   "outputs": [
    {
     "name": "stdout",
     "output_type": "stream",
     "text": [
      "Create sweep with ID: o2wtxrd2\n",
      "Sweep URL: https://wandb.ai/cs20b013-bersilin/sweep-hyperparameters%20-%201/sweeps/o2wtxrd2\n"
     ]
    },
    {
     "name": "stderr",
     "output_type": "stream",
     "text": [
      "\u001b[34m\u001b[1mwandb\u001b[0m: Agent Starting Run: k99z1qpn with config:\n",
      "\u001b[34m\u001b[1mwandb\u001b[0m: \tactivation: tanh\n",
      "\u001b[34m\u001b[1mwandb\u001b[0m: \tbatch_size: 32\n",
      "\u001b[34m\u001b[1mwandb\u001b[0m: \tbeta1: 0.9\n",
      "\u001b[34m\u001b[1mwandb\u001b[0m: \tbeta2: 0.999\n",
      "\u001b[34m\u001b[1mwandb\u001b[0m: \tepochs: 10\n",
      "\u001b[34m\u001b[1mwandb\u001b[0m: \tepsilon: 1e-08\n",
      "\u001b[34m\u001b[1mwandb\u001b[0m: \thidden_layers: 4\n",
      "\u001b[34m\u001b[1mwandb\u001b[0m: \tinput_size: 784\n",
      "\u001b[34m\u001b[1mwandb\u001b[0m: \tlearning_rate: 0.005\n",
      "\u001b[34m\u001b[1mwandb\u001b[0m: \tloss: cross_entropy\n",
      "\u001b[34m\u001b[1mwandb\u001b[0m: \tmomentum: 0.7\n",
      "\u001b[34m\u001b[1mwandb\u001b[0m: \tneurons: 128\n",
      "\u001b[34m\u001b[1mwandb\u001b[0m: \toptimiser: nag\n",
      "\u001b[34m\u001b[1mwandb\u001b[0m: \toutput_activation: softmax\n",
      "\u001b[34m\u001b[1mwandb\u001b[0m: \toutput_size: 10\n",
      "\u001b[34m\u001b[1mwandb\u001b[0m: \tweight_init: Xavier\n",
      "Failed to detect the name of this notebook, you can set it manually with the WANDB_NOTEBOOK_NAME environment variable to enable code saving.\n",
      "\u001b[34m\u001b[1mwandb\u001b[0m: \u001b[33mWARNING\u001b[0m Ignored wandb.init() arg project when running a sweep.\n"
     ]
    },
    {
     "data": {
      "text/html": [
       "Tracking run with wandb version 0.13.10"
      ],
      "text/plain": [
       "<IPython.core.display.HTML object>"
      ]
     },
     "metadata": {},
     "output_type": "display_data"
    },
    {
     "data": {
      "text/html": [
       "Run data is saved locally in <code>/home/bersi/Documents/CS6910 Assignments/CS6910-Assignment1/wandb/run-20230303_181942-k99z1qpn</code>"
      ],
      "text/plain": [
       "<IPython.core.display.HTML object>"
      ]
     },
     "metadata": {},
     "output_type": "display_data"
    },
    {
     "data": {
      "text/html": [
       "Syncing run <strong><a href='https://wandb.ai/cs20b013-bersilin/sweep-hyperparameters%20-%201/runs/k99z1qpn' target=\"_blank\">upbeat-sweep-1</a></strong> to <a href='https://wandb.ai/cs20b013-bersilin/sweep-hyperparameters%20-%201' target=\"_blank\">Weights & Biases</a> (<a href='https://wandb.me/run' target=\"_blank\">docs</a>)<br/>Sweep page: <a href='https://wandb.ai/cs20b013-bersilin/sweep-hyperparameters%20-%201/sweeps/o2wtxrd2' target=\"_blank\">https://wandb.ai/cs20b013-bersilin/sweep-hyperparameters%20-%201/sweeps/o2wtxrd2</a>"
      ],
      "text/plain": [
       "<IPython.core.display.HTML object>"
      ]
     },
     "metadata": {},
     "output_type": "display_data"
    },
    {
     "data": {
      "text/html": [
       " View project at <a href='https://wandb.ai/cs20b013-bersilin/sweep-hyperparameters%20-%201' target=\"_blank\">https://wandb.ai/cs20b013-bersilin/sweep-hyperparameters%20-%201</a>"
      ],
      "text/plain": [
       "<IPython.core.display.HTML object>"
      ]
     },
     "metadata": {},
     "output_type": "display_data"
    },
    {
     "data": {
      "text/html": [
       " View sweep at <a href='https://wandb.ai/cs20b013-bersilin/sweep-hyperparameters%20-%201/sweeps/o2wtxrd2' target=\"_blank\">https://wandb.ai/cs20b013-bersilin/sweep-hyperparameters%20-%201/sweeps/o2wtxrd2</a>"
      ],
      "text/plain": [
       "<IPython.core.display.HTML object>"
      ]
     },
     "metadata": {},
     "output_type": "display_data"
    },
    {
     "data": {
      "text/html": [
       " View run at <a href='https://wandb.ai/cs20b013-bersilin/sweep-hyperparameters%20-%201/runs/k99z1qpn' target=\"_blank\">https://wandb.ai/cs20b013-bersilin/sweep-hyperparameters%20-%201/runs/k99z1qpn</a>"
      ],
      "text/plain": [
       "<IPython.core.display.HTML object>"
      ]
     },
     "metadata": {},
     "output_type": "display_data"
    },
    {
     "name": "stdout",
     "output_type": "stream",
     "text": [
      "Initial Accuracy: 0.10838333333333333\n",
      "Epoch: 1, Loss: 1006323.7629503986\n",
      "Accuracy: 0.10018518518518518\n",
      "Epoch: 2, Loss: 1397315.0346036996\n",
      "Accuracy: 0.10094444444444445\n",
      "Epoch: 3, Loss: 899062.7880095493\n",
      "Accuracy: 0.0997962962962963\n",
      "Epoch: 4, Loss: 754801.1308414192\n",
      "Accuracy: 0.09961111111111111\n",
      "Epoch: 5, Loss: 1030688.5053380391\n",
      "Accuracy: 0.09985185185185186\n",
      "Epoch: 6, Loss: 735432.755959667\n",
      "Accuracy: 0.09985185185185186\n",
      "Epoch: 7, Loss: 1316290.0463870189\n",
      "Accuracy: 0.10092592592592593\n",
      "Epoch: 8, Loss: 1061547.190921836\n",
      "Accuracy: 0.09985185185185186\n",
      "Epoch: 9, Loss: 366086.20413939696\n",
      "Accuracy: 0.09985185185185186\n",
      "Epoch: 10, Loss: 1138093.3718720556\n",
      "Accuracy: 0.10092592592592593\n"
     ]
    },
    {
     "data": {
      "text/html": [
       "Waiting for W&B process to finish... <strong style=\"color:green\">(success).</strong>"
      ],
      "text/plain": [
       "<IPython.core.display.HTML object>"
      ]
     },
     "metadata": {},
     "output_type": "display_data"
    },
    {
     "data": {
      "application/vnd.jupyter.widget-view+json": {
       "model_id": "a9289db9ce594e5db2bae21888b20699",
       "version_major": 2,
       "version_minor": 0
      },
      "text/plain": [
       "VBox(children=(Label(value='0.003 MB of 0.003 MB uploaded (0.000 MB deduped)\\r'), FloatProgress(value=1.0, max…"
      ]
     },
     "metadata": {},
     "output_type": "display_data"
    },
    {
     "data": {
      "text/html": [
       "<style>\n",
       "    table.wandb td:nth-child(1) { padding: 0 10px; text-align: left ; width: auto;} td:nth-child(2) {text-align: left ; width: 100%}\n",
       "    .wandb-row { display: flex; flex-direction: row; flex-wrap: wrap; justify-content: flex-start; width: 100% }\n",
       "    .wandb-col { display: flex; flex-direction: column; flex-basis: 100%; flex: 1; padding: 10px; }\n",
       "    </style>\n",
       "<div class=\"wandb-row\"><div class=\"wandb-col\"><h3>Run history:</h3><br/><table class=\"wandb\"><tr><td>epoch</td><td>▁▂▃▃▄▅▆▆▇█</td></tr><tr><td>train_accuracy</td><td>▄█▂▁▂▂█▂▂█</td></tr><tr><td>train_loss</td><td>▅█▅▄▆▄▇▆▁▆</td></tr><tr><td>val_accuracy</td><td>▅▁▇█▇▇▁▇▇▁</td></tr><tr><td>val_loss</td><td>▅█▅▄▆▃▇▆▁▆</td></tr></table><br/></div><div class=\"wandb-col\"><h3>Run summary:</h3><br/><table class=\"wandb\"><tr><td>epoch</td><td>10</td></tr><tr><td>train_accuracy</td><td>0.10093</td></tr><tr><td>train_loss</td><td>1138093.37187</td></tr><tr><td>val_accuracy</td><td>0.09167</td></tr><tr><td>val_loss</td><td>128049.82326</td></tr></table><br/></div></div>"
      ],
      "text/plain": [
       "<IPython.core.display.HTML object>"
      ]
     },
     "metadata": {},
     "output_type": "display_data"
    },
    {
     "data": {
      "text/html": [
       " View run <strong style=\"color:#cdcd00\">upbeat-sweep-1</strong> at: <a href='https://wandb.ai/cs20b013-bersilin/sweep-hyperparameters%20-%201/runs/k99z1qpn' target=\"_blank\">https://wandb.ai/cs20b013-bersilin/sweep-hyperparameters%20-%201/runs/k99z1qpn</a><br/>Synced 5 W&B file(s), 0 media file(s), 0 artifact file(s) and 0 other file(s)"
      ],
      "text/plain": [
       "<IPython.core.display.HTML object>"
      ]
     },
     "metadata": {},
     "output_type": "display_data"
    },
    {
     "data": {
      "text/html": [
       "Find logs at: <code>./wandb/run-20230303_181942-k99z1qpn/logs</code>"
      ],
      "text/plain": [
       "<IPython.core.display.HTML object>"
      ]
     },
     "metadata": {},
     "output_type": "display_data"
    },
    {
     "name": "stderr",
     "output_type": "stream",
     "text": [
      "\u001b[34m\u001b[1mwandb\u001b[0m: Agent Starting Run: 5lm8sp93 with config:\n",
      "\u001b[34m\u001b[1mwandb\u001b[0m: \tactivation: ReLU\n",
      "\u001b[34m\u001b[1mwandb\u001b[0m: \tbatch_size: 128\n",
      "\u001b[34m\u001b[1mwandb\u001b[0m: \tbeta1: 0.9\n",
      "\u001b[34m\u001b[1mwandb\u001b[0m: \tbeta2: 0.999\n",
      "\u001b[34m\u001b[1mwandb\u001b[0m: \tepochs: 10\n",
      "\u001b[34m\u001b[1mwandb\u001b[0m: \tepsilon: 1e-08\n",
      "\u001b[34m\u001b[1mwandb\u001b[0m: \thidden_layers: 1\n",
      "\u001b[34m\u001b[1mwandb\u001b[0m: \tinput_size: 784\n",
      "\u001b[34m\u001b[1mwandb\u001b[0m: \tlearning_rate: 0.05\n",
      "\u001b[34m\u001b[1mwandb\u001b[0m: \tloss: cross_entropy\n",
      "\u001b[34m\u001b[1mwandb\u001b[0m: \tmomentum: 0.6\n",
      "\u001b[34m\u001b[1mwandb\u001b[0m: \tneurons: 32\n",
      "\u001b[34m\u001b[1mwandb\u001b[0m: \toptimiser: nag\n",
      "\u001b[34m\u001b[1mwandb\u001b[0m: \toutput_activation: softmax\n",
      "\u001b[34m\u001b[1mwandb\u001b[0m: \toutput_size: 10\n",
      "\u001b[34m\u001b[1mwandb\u001b[0m: \tweight_init: Xavier\n",
      "Failed to detect the name of this notebook, you can set it manually with the WANDB_NOTEBOOK_NAME environment variable to enable code saving.\n",
      "\u001b[34m\u001b[1mwandb\u001b[0m: \u001b[33mWARNING\u001b[0m Ignored wandb.init() arg project when running a sweep.\n"
     ]
    },
    {
     "data": {
      "text/html": [
       "Tracking run with wandb version 0.13.10"
      ],
      "text/plain": [
       "<IPython.core.display.HTML object>"
      ]
     },
     "metadata": {},
     "output_type": "display_data"
    },
    {
     "data": {
      "text/html": [
       "Run data is saved locally in <code>/home/bersi/Documents/CS6910 Assignments/CS6910-Assignment1/wandb/run-20230303_182128-5lm8sp93</code>"
      ],
      "text/plain": [
       "<IPython.core.display.HTML object>"
      ]
     },
     "metadata": {},
     "output_type": "display_data"
    },
    {
     "data": {
      "text/html": [
       "Syncing run <strong><a href='https://wandb.ai/cs20b013-bersilin/sweep-hyperparameters%20-%201/runs/5lm8sp93' target=\"_blank\">cosmic-sweep-2</a></strong> to <a href='https://wandb.ai/cs20b013-bersilin/sweep-hyperparameters%20-%201' target=\"_blank\">Weights & Biases</a> (<a href='https://wandb.me/run' target=\"_blank\">docs</a>)<br/>Sweep page: <a href='https://wandb.ai/cs20b013-bersilin/sweep-hyperparameters%20-%201/sweeps/o2wtxrd2' target=\"_blank\">https://wandb.ai/cs20b013-bersilin/sweep-hyperparameters%20-%201/sweeps/o2wtxrd2</a>"
      ],
      "text/plain": [
       "<IPython.core.display.HTML object>"
      ]
     },
     "metadata": {},
     "output_type": "display_data"
    },
    {
     "data": {
      "text/html": [
       " View project at <a href='https://wandb.ai/cs20b013-bersilin/sweep-hyperparameters%20-%201' target=\"_blank\">https://wandb.ai/cs20b013-bersilin/sweep-hyperparameters%20-%201</a>"
      ],
      "text/plain": [
       "<IPython.core.display.HTML object>"
      ]
     },
     "metadata": {},
     "output_type": "display_data"
    },
    {
     "data": {
      "text/html": [
       " View sweep at <a href='https://wandb.ai/cs20b013-bersilin/sweep-hyperparameters%20-%201/sweeps/o2wtxrd2' target=\"_blank\">https://wandb.ai/cs20b013-bersilin/sweep-hyperparameters%20-%201/sweeps/o2wtxrd2</a>"
      ],
      "text/plain": [
       "<IPython.core.display.HTML object>"
      ]
     },
     "metadata": {},
     "output_type": "display_data"
    },
    {
     "data": {
      "text/html": [
       " View run at <a href='https://wandb.ai/cs20b013-bersilin/sweep-hyperparameters%20-%201/runs/5lm8sp93' target=\"_blank\">https://wandb.ai/cs20b013-bersilin/sweep-hyperparameters%20-%201/runs/5lm8sp93</a>"
      ],
      "text/plain": [
       "<IPython.core.display.HTML object>"
      ]
     },
     "metadata": {},
     "output_type": "display_data"
    },
    {
     "name": "stdout",
     "output_type": "stream",
     "text": [
      "Initial Accuracy: 0.07111666666666666\n",
      "Epoch: 1, Loss: 125589.53715445801\n",
      "Accuracy: 0.09987037037037037\n",
      "Epoch: 2, Loss: 125588.34078895462\n",
      "Accuracy: 0.09987037037037037\n",
      "Epoch: 3, Loss: 125586.63007743994\n",
      "Accuracy: 0.09988888888888889\n",
      "Epoch: 4, Loss: 125586.33269203953\n",
      "Accuracy: 0.09988888888888889\n",
      "Epoch: 5, Loss: 125586.1734728788\n",
      "Accuracy: 0.09988888888888889\n",
      "Epoch: 6, Loss: 125586.11439394896\n",
      "Accuracy: 0.09988888888888889\n",
      "Epoch: 7, Loss: 125586.08524224398\n",
      "Accuracy: 0.09988888888888889\n",
      "Epoch: 8, Loss: 125586.06824682931\n",
      "Accuracy: 0.09988888888888889\n",
      "Epoch: 9, Loss: 125586.05724539822\n",
      "Accuracy: 0.09988888888888889\n",
      "Epoch: 10, Loss: 125586.049599206\n",
      "Accuracy: 0.09988888888888889\n"
     ]
    },
    {
     "data": {
      "text/html": [
       "Waiting for W&B process to finish... <strong style=\"color:green\">(success).</strong>"
      ],
      "text/plain": [
       "<IPython.core.display.HTML object>"
      ]
     },
     "metadata": {},
     "output_type": "display_data"
    },
    {
     "data": {
      "application/vnd.jupyter.widget-view+json": {
       "model_id": "ec4e6c3a09874917a02dc7470e82dcd6",
       "version_major": 2,
       "version_minor": 0
      },
      "text/plain": [
       "VBox(children=(Label(value='0.003 MB of 0.003 MB uploaded (0.000 MB deduped)\\r'), FloatProgress(value=1.0, max…"
      ]
     },
     "metadata": {},
     "output_type": "display_data"
    },
    {
     "data": {
      "text/html": [
       "<style>\n",
       "    table.wandb td:nth-child(1) { padding: 0 10px; text-align: left ; width: auto;} td:nth-child(2) {text-align: left ; width: 100%}\n",
       "    .wandb-row { display: flex; flex-direction: row; flex-wrap: wrap; justify-content: flex-start; width: 100% }\n",
       "    .wandb-col { display: flex; flex-direction: column; flex-basis: 100%; flex: 1; padding: 10px; }\n",
       "    </style>\n",
       "<div class=\"wandb-row\"><div class=\"wandb-col\"><h3>Run history:</h3><br/><table class=\"wandb\"><tr><td>epoch</td><td>▁▂▃▃▄▅▆▆▇█</td></tr><tr><td>train_accuracy</td><td>▁▁████████</td></tr><tr><td>train_loss</td><td>█▆▂▂▁▁▁▁▁▁</td></tr><tr><td>val_accuracy</td><td>▁▁▁▁▁▁▁▁▁▁</td></tr><tr><td>val_loss</td><td>▁▁▁▁▁▁▁▁▁▁</td></tr></table><br/></div><div class=\"wandb-col\"><h3>Run summary:</h3><br/><table class=\"wandb\"><tr><td>epoch</td><td>10</td></tr><tr><td>train_accuracy</td><td>0.09989</td></tr><tr><td>train_loss</td><td>125586.0496</td></tr><tr><td>val_accuracy</td><td>0.10133</td></tr><tr><td>val_loss</td><td>13968.14871</td></tr></table><br/></div></div>"
      ],
      "text/plain": [
       "<IPython.core.display.HTML object>"
      ]
     },
     "metadata": {},
     "output_type": "display_data"
    },
    {
     "data": {
      "text/html": [
       " View run <strong style=\"color:#cdcd00\">cosmic-sweep-2</strong> at: <a href='https://wandb.ai/cs20b013-bersilin/sweep-hyperparameters%20-%201/runs/5lm8sp93' target=\"_blank\">https://wandb.ai/cs20b013-bersilin/sweep-hyperparameters%20-%201/runs/5lm8sp93</a><br/>Synced 5 W&B file(s), 0 media file(s), 0 artifact file(s) and 0 other file(s)"
      ],
      "text/plain": [
       "<IPython.core.display.HTML object>"
      ]
     },
     "metadata": {},
     "output_type": "display_data"
    },
    {
     "data": {
      "text/html": [
       "Find logs at: <code>./wandb/run-20230303_182128-5lm8sp93/logs</code>"
      ],
      "text/plain": [
       "<IPython.core.display.HTML object>"
      ]
     },
     "metadata": {},
     "output_type": "display_data"
    },
    {
     "name": "stderr",
     "output_type": "stream",
     "text": [
      "\u001b[34m\u001b[1mwandb\u001b[0m: Agent Starting Run: 430giatj with config:\n",
      "\u001b[34m\u001b[1mwandb\u001b[0m: \tactivation: ReLU\n",
      "\u001b[34m\u001b[1mwandb\u001b[0m: \tbatch_size: 128\n",
      "\u001b[34m\u001b[1mwandb\u001b[0m: \tbeta1: 0.9\n",
      "\u001b[34m\u001b[1mwandb\u001b[0m: \tbeta2: 0.999\n",
      "\u001b[34m\u001b[1mwandb\u001b[0m: \tepochs: 10\n",
      "\u001b[34m\u001b[1mwandb\u001b[0m: \tepsilon: 1e-08\n",
      "\u001b[34m\u001b[1mwandb\u001b[0m: \thidden_layers: 2\n",
      "\u001b[34m\u001b[1mwandb\u001b[0m: \tinput_size: 784\n",
      "\u001b[34m\u001b[1mwandb\u001b[0m: \tlearning_rate: 0.005\n",
      "\u001b[34m\u001b[1mwandb\u001b[0m: \tloss: cross_entropy\n",
      "\u001b[34m\u001b[1mwandb\u001b[0m: \tmomentum: 0.7\n",
      "\u001b[34m\u001b[1mwandb\u001b[0m: \tneurons: 64\n",
      "\u001b[34m\u001b[1mwandb\u001b[0m: \toptimiser: sgd\n",
      "\u001b[34m\u001b[1mwandb\u001b[0m: \toutput_activation: softmax\n",
      "\u001b[34m\u001b[1mwandb\u001b[0m: \toutput_size: 10\n",
      "\u001b[34m\u001b[1mwandb\u001b[0m: \tweight_init: random\n",
      "Failed to detect the name of this notebook, you can set it manually with the WANDB_NOTEBOOK_NAME environment variable to enable code saving.\n",
      "\u001b[34m\u001b[1mwandb\u001b[0m: \u001b[33mWARNING\u001b[0m Ignored wandb.init() arg project when running a sweep.\n"
     ]
    },
    {
     "data": {
      "text/html": [
       "Tracking run with wandb version 0.13.10"
      ],
      "text/plain": [
       "<IPython.core.display.HTML object>"
      ]
     },
     "metadata": {},
     "output_type": "display_data"
    },
    {
     "data": {
      "text/html": [
       "Run data is saved locally in <code>/home/bersi/Documents/CS6910 Assignments/CS6910-Assignment1/wandb/run-20230303_182201-430giatj</code>"
      ],
      "text/plain": [
       "<IPython.core.display.HTML object>"
      ]
     },
     "metadata": {},
     "output_type": "display_data"
    },
    {
     "data": {
      "text/html": [
       "Syncing run <strong><a href='https://wandb.ai/cs20b013-bersilin/sweep-hyperparameters%20-%201/runs/430giatj' target=\"_blank\">unique-sweep-3</a></strong> to <a href='https://wandb.ai/cs20b013-bersilin/sweep-hyperparameters%20-%201' target=\"_blank\">Weights & Biases</a> (<a href='https://wandb.me/run' target=\"_blank\">docs</a>)<br/>Sweep page: <a href='https://wandb.ai/cs20b013-bersilin/sweep-hyperparameters%20-%201/sweeps/o2wtxrd2' target=\"_blank\">https://wandb.ai/cs20b013-bersilin/sweep-hyperparameters%20-%201/sweeps/o2wtxrd2</a>"
      ],
      "text/plain": [
       "<IPython.core.display.HTML object>"
      ]
     },
     "metadata": {},
     "output_type": "display_data"
    },
    {
     "data": {
      "text/html": [
       " View project at <a href='https://wandb.ai/cs20b013-bersilin/sweep-hyperparameters%20-%201' target=\"_blank\">https://wandb.ai/cs20b013-bersilin/sweep-hyperparameters%20-%201</a>"
      ],
      "text/plain": [
       "<IPython.core.display.HTML object>"
      ]
     },
     "metadata": {},
     "output_type": "display_data"
    },
    {
     "data": {
      "text/html": [
       " View sweep at <a href='https://wandb.ai/cs20b013-bersilin/sweep-hyperparameters%20-%201/sweeps/o2wtxrd2' target=\"_blank\">https://wandb.ai/cs20b013-bersilin/sweep-hyperparameters%20-%201/sweeps/o2wtxrd2</a>"
      ],
      "text/plain": [
       "<IPython.core.display.HTML object>"
      ]
     },
     "metadata": {},
     "output_type": "display_data"
    },
    {
     "data": {
      "text/html": [
       " View run at <a href='https://wandb.ai/cs20b013-bersilin/sweep-hyperparameters%20-%201/runs/430giatj' target=\"_blank\">https://wandb.ai/cs20b013-bersilin/sweep-hyperparameters%20-%201/runs/430giatj</a>"
      ],
      "text/plain": [
       "<IPython.core.display.HTML object>"
      ]
     },
     "metadata": {},
     "output_type": "display_data"
    },
    {
     "name": "stdout",
     "output_type": "stream",
     "text": [
      "Initial Accuracy: 0.13125\n"
     ]
    },
    {
     "name": "stderr",
     "output_type": "stream",
     "text": [
      "/tmp/ipykernel_4185/3164095457.py:11: RuntimeWarning: overflow encountered in divide\n",
      "  return -y / y_pred\n"
     ]
    },
    {
     "name": "stdout",
     "output_type": "stream",
     "text": [
      "Epoch: 1, Loss: 124415.12892803209\n",
      "Accuracy: 0.09974074074074074\n",
      "Epoch: 2, Loss: 124382.33622814258\n",
      "Accuracy: 0.09981481481481481\n",
      "Epoch: 3, Loss: 124358.82691691899\n",
      "Accuracy: 0.09981481481481481\n",
      "Epoch: 4, Loss: 124356.27393382888\n",
      "Accuracy: 0.09981481481481481\n",
      "Epoch: 5, Loss: 124354.81828409624\n",
      "Accuracy: 0.09977777777777778\n",
      "Epoch: 6, Loss: 124353.23786229374\n",
      "Accuracy: 0.09985185185185186\n",
      "Epoch: 7, Loss: 124350.68316994797\n",
      "Accuracy: 0.0999074074074074\n",
      "Epoch: 8, Loss: 124345.36735745463\n",
      "Accuracy: 0.10001851851851852\n",
      "Epoch: 9, Loss: 124338.25060931593\n",
      "Accuracy: 0.1000925925925926\n",
      "Epoch: 10, Loss: 124306.67257733662\n",
      "Accuracy: 0.1005\n"
     ]
    },
    {
     "data": {
      "text/html": [
       "Waiting for W&B process to finish... <strong style=\"color:green\">(success).</strong>"
      ],
      "text/plain": [
       "<IPython.core.display.HTML object>"
      ]
     },
     "metadata": {},
     "output_type": "display_data"
    },
    {
     "data": {
      "text/html": [
       "<style>\n",
       "    table.wandb td:nth-child(1) { padding: 0 10px; text-align: left ; width: auto;} td:nth-child(2) {text-align: left ; width: 100%}\n",
       "    .wandb-row { display: flex; flex-direction: row; flex-wrap: wrap; justify-content: flex-start; width: 100% }\n",
       "    .wandb-col { display: flex; flex-direction: column; flex-basis: 100%; flex: 1; padding: 10px; }\n",
       "    </style>\n",
       "<div class=\"wandb-row\"><div class=\"wandb-col\"><h3>Run history:</h3><br/><table class=\"wandb\"><tr><td>epoch</td><td>▁▂▃▃▄▅▆▆▇█</td></tr><tr><td>train_accuracy</td><td>▁▂▂▂▁▂▃▄▄█</td></tr><tr><td>train_loss</td><td>█▆▄▄▄▄▄▃▃▁</td></tr><tr><td>val_accuracy</td><td>▁▁▁▂▂▂▂▂▄█</td></tr><tr><td>val_loss</td><td>████▇▇▇▇▆▁</td></tr></table><br/></div><div class=\"wandb-col\"><h3>Run summary:</h3><br/><table class=\"wandb\"><tr><td>epoch</td><td>10</td></tr><tr><td>train_accuracy</td><td>0.1005</td></tr><tr><td>train_loss</td><td>124306.67258</td></tr><tr><td>val_accuracy</td><td>0.10417</td></tr><tr><td>val_loss</td><td>13808.07979</td></tr></table><br/></div></div>"
      ],
      "text/plain": [
       "<IPython.core.display.HTML object>"
      ]
     },
     "metadata": {},
     "output_type": "display_data"
    },
    {
     "data": {
      "text/html": [
       " View run <strong style=\"color:#cdcd00\">unique-sweep-3</strong> at: <a href='https://wandb.ai/cs20b013-bersilin/sweep-hyperparameters%20-%201/runs/430giatj' target=\"_blank\">https://wandb.ai/cs20b013-bersilin/sweep-hyperparameters%20-%201/runs/430giatj</a><br/>Synced 5 W&B file(s), 0 media file(s), 0 artifact file(s) and 0 other file(s)"
      ],
      "text/plain": [
       "<IPython.core.display.HTML object>"
      ]
     },
     "metadata": {},
     "output_type": "display_data"
    },
    {
     "data": {
      "text/html": [
       "Find logs at: <code>./wandb/run-20230303_182201-430giatj/logs</code>"
      ],
      "text/plain": [
       "<IPython.core.display.HTML object>"
      ]
     },
     "metadata": {},
     "output_type": "display_data"
    },
    {
     "name": "stderr",
     "output_type": "stream",
     "text": [
      "\u001b[34m\u001b[1mwandb\u001b[0m: Agent Starting Run: zxdh7cya with config:\n",
      "\u001b[34m\u001b[1mwandb\u001b[0m: \tactivation: sigmoid\n",
      "\u001b[34m\u001b[1mwandb\u001b[0m: \tbatch_size: 32\n",
      "\u001b[34m\u001b[1mwandb\u001b[0m: \tbeta1: 0.9\n",
      "\u001b[34m\u001b[1mwandb\u001b[0m: \tbeta2: 0.999\n",
      "\u001b[34m\u001b[1mwandb\u001b[0m: \tepochs: 10\n",
      "\u001b[34m\u001b[1mwandb\u001b[0m: \tepsilon: 1e-08\n",
      "\u001b[34m\u001b[1mwandb\u001b[0m: \thidden_layers: 3\n",
      "\u001b[34m\u001b[1mwandb\u001b[0m: \tinput_size: 784\n",
      "\u001b[34m\u001b[1mwandb\u001b[0m: \tlearning_rate: 0.0001\n",
      "\u001b[34m\u001b[1mwandb\u001b[0m: \tloss: cross_entropy\n",
      "\u001b[34m\u001b[1mwandb\u001b[0m: \tmomentum: 0.5\n",
      "\u001b[34m\u001b[1mwandb\u001b[0m: \tneurons: 32\n",
      "\u001b[34m\u001b[1mwandb\u001b[0m: \toptimiser: momentum\n",
      "\u001b[34m\u001b[1mwandb\u001b[0m: \toutput_activation: softmax\n",
      "\u001b[34m\u001b[1mwandb\u001b[0m: \toutput_size: 10\n",
      "\u001b[34m\u001b[1mwandb\u001b[0m: \tweight_init: random\n",
      "Failed to detect the name of this notebook, you can set it manually with the WANDB_NOTEBOOK_NAME environment variable to enable code saving.\n",
      "\u001b[34m\u001b[1mwandb\u001b[0m: \u001b[33mWARNING\u001b[0m Ignored wandb.init() arg project when running a sweep.\n"
     ]
    },
    {
     "data": {
      "text/html": [
       "Tracking run with wandb version 0.13.10"
      ],
      "text/plain": [
       "<IPython.core.display.HTML object>"
      ]
     },
     "metadata": {},
     "output_type": "display_data"
    },
    {
     "data": {
      "text/html": [
       "Run data is saved locally in <code>/home/bersi/Documents/CS6910 Assignments/CS6910-Assignment1/wandb/run-20230303_182227-zxdh7cya</code>"
      ],
      "text/plain": [
       "<IPython.core.display.HTML object>"
      ]
     },
     "metadata": {},
     "output_type": "display_data"
    },
    {
     "data": {
      "text/html": [
       "Syncing run <strong><a href='https://wandb.ai/cs20b013-bersilin/sweep-hyperparameters%20-%201/runs/zxdh7cya' target=\"_blank\">upbeat-sweep-4</a></strong> to <a href='https://wandb.ai/cs20b013-bersilin/sweep-hyperparameters%20-%201' target=\"_blank\">Weights & Biases</a> (<a href='https://wandb.me/run' target=\"_blank\">docs</a>)<br/>Sweep page: <a href='https://wandb.ai/cs20b013-bersilin/sweep-hyperparameters%20-%201/sweeps/o2wtxrd2' target=\"_blank\">https://wandb.ai/cs20b013-bersilin/sweep-hyperparameters%20-%201/sweeps/o2wtxrd2</a>"
      ],
      "text/plain": [
       "<IPython.core.display.HTML object>"
      ]
     },
     "metadata": {},
     "output_type": "display_data"
    },
    {
     "data": {
      "text/html": [
       " View project at <a href='https://wandb.ai/cs20b013-bersilin/sweep-hyperparameters%20-%201' target=\"_blank\">https://wandb.ai/cs20b013-bersilin/sweep-hyperparameters%20-%201</a>"
      ],
      "text/plain": [
       "<IPython.core.display.HTML object>"
      ]
     },
     "metadata": {},
     "output_type": "display_data"
    },
    {
     "data": {
      "text/html": [
       " View sweep at <a href='https://wandb.ai/cs20b013-bersilin/sweep-hyperparameters%20-%201/sweeps/o2wtxrd2' target=\"_blank\">https://wandb.ai/cs20b013-bersilin/sweep-hyperparameters%20-%201/sweeps/o2wtxrd2</a>"
      ],
      "text/plain": [
       "<IPython.core.display.HTML object>"
      ]
     },
     "metadata": {},
     "output_type": "display_data"
    },
    {
     "data": {
      "text/html": [
       " View run at <a href='https://wandb.ai/cs20b013-bersilin/sweep-hyperparameters%20-%201/runs/zxdh7cya' target=\"_blank\">https://wandb.ai/cs20b013-bersilin/sweep-hyperparameters%20-%201/runs/zxdh7cya</a>"
      ],
      "text/plain": [
       "<IPython.core.display.HTML object>"
      ]
     },
     "metadata": {},
     "output_type": "display_data"
    },
    {
     "name": "stdout",
     "output_type": "stream",
     "text": [
      "Initial Accuracy: 0.1\n",
      "Epoch: 1, Loss: 104684.14065574046\n",
      "Accuracy: 0.2970740740740741\n",
      "Epoch: 2, Loss: 85606.9136049866\n",
      "Accuracy: 0.4370925925925926\n",
      "Epoch: 3, Loss: 73893.4463091492\n",
      "Accuracy: 0.5090370370370371\n",
      "Epoch: 4, Loss: 66490.59481916556\n",
      "Accuracy: 0.5554444444444444\n",
      "Epoch: 5, Loss: 61390.108118303884\n",
      "Accuracy: 0.5865\n",
      "Epoch: 6, Loss: 57630.3382870175\n",
      "Accuracy: 0.6100185185185185\n",
      "Epoch: 7, Loss: 54660.29018951484\n",
      "Accuracy: 0.6286481481481482\n",
      "Epoch: 8, Loss: 52254.21177883548\n",
      "Accuracy: 0.6447222222222222\n",
      "Epoch: 9, Loss: 50282.482372996994\n",
      "Accuracy: 0.6574444444444445\n",
      "Epoch: 10, Loss: 48635.271004288436\n",
      "Accuracy: 0.6691851851851852\n"
     ]
    },
    {
     "data": {
      "text/html": [
       "Waiting for W&B process to finish... <strong style=\"color:green\">(success).</strong>"
      ],
      "text/plain": [
       "<IPython.core.display.HTML object>"
      ]
     },
     "metadata": {},
     "output_type": "display_data"
    },
    {
     "data": {
      "application/vnd.jupyter.widget-view+json": {
       "model_id": "51b713ed69c949b29e97e116849ad78d",
       "version_major": 2,
       "version_minor": 0
      },
      "text/plain": [
       "VBox(children=(Label(value='0.003 MB of 0.003 MB uploaded (0.000 MB deduped)\\r'), FloatProgress(value=1.0, max…"
      ]
     },
     "metadata": {},
     "output_type": "display_data"
    },
    {
     "data": {
      "text/html": [
       "<style>\n",
       "    table.wandb td:nth-child(1) { padding: 0 10px; text-align: left ; width: auto;} td:nth-child(2) {text-align: left ; width: 100%}\n",
       "    .wandb-row { display: flex; flex-direction: row; flex-wrap: wrap; justify-content: flex-start; width: 100% }\n",
       "    .wandb-col { display: flex; flex-direction: column; flex-basis: 100%; flex: 1; padding: 10px; }\n",
       "    </style>\n",
       "<div class=\"wandb-row\"><div class=\"wandb-col\"><h3>Run history:</h3><br/><table class=\"wandb\"><tr><td>epoch</td><td>▁▂▃▃▄▅▆▆▇█</td></tr><tr><td>train_accuracy</td><td>▁▄▅▆▆▇▇███</td></tr><tr><td>train_loss</td><td>█▆▄▃▃▂▂▁▁▁</td></tr><tr><td>val_accuracy</td><td>▁▄▅▆▇▇▇███</td></tr><tr><td>val_loss</td><td>█▆▄▃▃▂▂▁▁▁</td></tr></table><br/></div><div class=\"wandb-col\"><h3>Run summary:</h3><br/><table class=\"wandb\"><tr><td>epoch</td><td>10</td></tr><tr><td>train_accuracy</td><td>0.66919</td></tr><tr><td>train_loss</td><td>48635.271</td></tr><tr><td>val_accuracy</td><td>0.661</td></tr><tr><td>val_loss</td><td>5481.76388</td></tr></table><br/></div></div>"
      ],
      "text/plain": [
       "<IPython.core.display.HTML object>"
      ]
     },
     "metadata": {},
     "output_type": "display_data"
    },
    {
     "data": {
      "text/html": [
       " View run <strong style=\"color:#cdcd00\">upbeat-sweep-4</strong> at: <a href='https://wandb.ai/cs20b013-bersilin/sweep-hyperparameters%20-%201/runs/zxdh7cya' target=\"_blank\">https://wandb.ai/cs20b013-bersilin/sweep-hyperparameters%20-%201/runs/zxdh7cya</a><br/>Synced 5 W&B file(s), 0 media file(s), 0 artifact file(s) and 0 other file(s)"
      ],
      "text/plain": [
       "<IPython.core.display.HTML object>"
      ]
     },
     "metadata": {},
     "output_type": "display_data"
    },
    {
     "data": {
      "text/html": [
       "Find logs at: <code>./wandb/run-20230303_182227-zxdh7cya/logs</code>"
      ],
      "text/plain": [
       "<IPython.core.display.HTML object>"
      ]
     },
     "metadata": {},
     "output_type": "display_data"
    },
    {
     "name": "stderr",
     "output_type": "stream",
     "text": [
      "\u001b[34m\u001b[1mwandb\u001b[0m: Agent Starting Run: el0iz3cf with config:\n",
      "\u001b[34m\u001b[1mwandb\u001b[0m: \tactivation: ReLU\n",
      "\u001b[34m\u001b[1mwandb\u001b[0m: \tbatch_size: 16\n",
      "\u001b[34m\u001b[1mwandb\u001b[0m: \tbeta1: 0.9\n",
      "\u001b[34m\u001b[1mwandb\u001b[0m: \tbeta2: 0.999\n",
      "\u001b[34m\u001b[1mwandb\u001b[0m: \tepochs: 10\n",
      "\u001b[34m\u001b[1mwandb\u001b[0m: \tepsilon: 1e-08\n",
      "\u001b[34m\u001b[1mwandb\u001b[0m: \thidden_layers: 1\n",
      "\u001b[34m\u001b[1mwandb\u001b[0m: \tinput_size: 784\n",
      "\u001b[34m\u001b[1mwandb\u001b[0m: \tlearning_rate: 0.05\n",
      "\u001b[34m\u001b[1mwandb\u001b[0m: \tloss: cross_entropy\n",
      "\u001b[34m\u001b[1mwandb\u001b[0m: \tmomentum: 0.6\n",
      "\u001b[34m\u001b[1mwandb\u001b[0m: \tneurons: 128\n",
      "\u001b[34m\u001b[1mwandb\u001b[0m: \toptimiser: nag\n",
      "\u001b[34m\u001b[1mwandb\u001b[0m: \toutput_activation: softmax\n",
      "\u001b[34m\u001b[1mwandb\u001b[0m: \toutput_size: 10\n",
      "\u001b[34m\u001b[1mwandb\u001b[0m: \tweight_init: Xavier\n",
      "Failed to detect the name of this notebook, you can set it manually with the WANDB_NOTEBOOK_NAME environment variable to enable code saving.\n",
      "\u001b[34m\u001b[1mwandb\u001b[0m: \u001b[33mWARNING\u001b[0m Ignored wandb.init() arg project when running a sweep.\n"
     ]
    },
    {
     "data": {
      "text/html": [
       "Tracking run with wandb version 0.13.10"
      ],
      "text/plain": [
       "<IPython.core.display.HTML object>"
      ]
     },
     "metadata": {},
     "output_type": "display_data"
    },
    {
     "data": {
      "text/html": [
       "Run data is saved locally in <code>/home/bersi/Documents/CS6910 Assignments/CS6910-Assignment1/wandb/run-20230303_182256-el0iz3cf</code>"
      ],
      "text/plain": [
       "<IPython.core.display.HTML object>"
      ]
     },
     "metadata": {},
     "output_type": "display_data"
    },
    {
     "data": {
      "text/html": [
       "Syncing run <strong><a href='https://wandb.ai/cs20b013-bersilin/sweep-hyperparameters%20-%201/runs/el0iz3cf' target=\"_blank\">dulcet-sweep-5</a></strong> to <a href='https://wandb.ai/cs20b013-bersilin/sweep-hyperparameters%20-%201' target=\"_blank\">Weights & Biases</a> (<a href='https://wandb.me/run' target=\"_blank\">docs</a>)<br/>Sweep page: <a href='https://wandb.ai/cs20b013-bersilin/sweep-hyperparameters%20-%201/sweeps/o2wtxrd2' target=\"_blank\">https://wandb.ai/cs20b013-bersilin/sweep-hyperparameters%20-%201/sweeps/o2wtxrd2</a>"
      ],
      "text/plain": [
       "<IPython.core.display.HTML object>"
      ]
     },
     "metadata": {},
     "output_type": "display_data"
    },
    {
     "data": {
      "text/html": [
       " View project at <a href='https://wandb.ai/cs20b013-bersilin/sweep-hyperparameters%20-%201' target=\"_blank\">https://wandb.ai/cs20b013-bersilin/sweep-hyperparameters%20-%201</a>"
      ],
      "text/plain": [
       "<IPython.core.display.HTML object>"
      ]
     },
     "metadata": {},
     "output_type": "display_data"
    },
    {
     "data": {
      "text/html": [
       " View sweep at <a href='https://wandb.ai/cs20b013-bersilin/sweep-hyperparameters%20-%201/sweeps/o2wtxrd2' target=\"_blank\">https://wandb.ai/cs20b013-bersilin/sweep-hyperparameters%20-%201/sweeps/o2wtxrd2</a>"
      ],
      "text/plain": [
       "<IPython.core.display.HTML object>"
      ]
     },
     "metadata": {},
     "output_type": "display_data"
    },
    {
     "data": {
      "text/html": [
       " View run at <a href='https://wandb.ai/cs20b013-bersilin/sweep-hyperparameters%20-%201/runs/el0iz3cf' target=\"_blank\">https://wandb.ai/cs20b013-bersilin/sweep-hyperparameters%20-%201/runs/el0iz3cf</a>"
      ],
      "text/plain": [
       "<IPython.core.display.HTML object>"
      ]
     },
     "metadata": {},
     "output_type": "display_data"
    },
    {
     "name": "stdout",
     "output_type": "stream",
     "text": [
      "Initial Accuracy: 0.15551666666666666\n",
      "Epoch: 1, Loss: 118633.11499990687\n",
      "Accuracy: 0.15012962962962964\n",
      "Epoch: 2, Loss: 119462.69803993183\n",
      "Accuracy: 0.14196296296296296\n",
      "Epoch: 3, Loss: 115655.48374838688\n",
      "Accuracy: 0.16546296296296295\n",
      "Epoch: 4, Loss: 121001.49547488557\n",
      "Accuracy: 0.1308888888888889\n",
      "Epoch: 5, Loss: 119177.44682337515\n",
      "Accuracy: 0.14512962962962964\n",
      "Epoch: 6, Loss: 121772.31395124517\n",
      "Accuracy: 0.12816666666666668\n",
      "Epoch: 7, Loss: 120278.40958583285\n",
      "Accuracy: 0.13635185185185186\n",
      "Epoch: 8, Loss: 120565.19947159119\n",
      "Accuracy: 0.1332962962962963\n",
      "Epoch: 9, Loss: 118674.66617227762\n",
      "Accuracy: 0.14716666666666667\n",
      "Epoch: 10, Loss: 116294.34493635216\n",
      "Accuracy: 0.16092592592592592\n"
     ]
    },
    {
     "data": {
      "text/html": [
       "Waiting for W&B process to finish... <strong style=\"color:green\">(success).</strong>"
      ],
      "text/plain": [
       "<IPython.core.display.HTML object>"
      ]
     },
     "metadata": {},
     "output_type": "display_data"
    },
    {
     "data": {
      "application/vnd.jupyter.widget-view+json": {
       "model_id": "1f9dee67db9345db9b2700fd3c844fe3",
       "version_major": 2,
       "version_minor": 0
      },
      "text/plain": [
       "VBox(children=(Label(value='0.003 MB of 0.004 MB uploaded (0.000 MB deduped)\\r'), FloatProgress(value=0.828335…"
      ]
     },
     "metadata": {},
     "output_type": "display_data"
    },
    {
     "data": {
      "text/html": [
       "<style>\n",
       "    table.wandb td:nth-child(1) { padding: 0 10px; text-align: left ; width: auto;} td:nth-child(2) {text-align: left ; width: 100%}\n",
       "    .wandb-row { display: flex; flex-direction: row; flex-wrap: wrap; justify-content: flex-start; width: 100% }\n",
       "    .wandb-col { display: flex; flex-direction: column; flex-basis: 100%; flex: 1; padding: 10px; }\n",
       "    </style>\n",
       "<div class=\"wandb-row\"><div class=\"wandb-col\"><h3>Run history:</h3><br/><table class=\"wandb\"><tr><td>epoch</td><td>▁▂▃▃▄▅▆▆▇█</td></tr><tr><td>train_accuracy</td><td>▅▄█▂▄▁▃▂▅▇</td></tr><tr><td>train_loss</td><td>▄▅▁▇▅█▆▇▄▂</td></tr><tr><td>val_accuracy</td><td>▅▃█▁▄▁▂▂▄▇</td></tr><tr><td>val_loss</td><td>▄▆▁█▅█▆▇▄▂</td></tr></table><br/></div><div class=\"wandb-col\"><h3>Run summary:</h3><br/><table class=\"wandb\"><tr><td>epoch</td><td>10</td></tr><tr><td>train_accuracy</td><td>0.16093</td></tr><tr><td>train_loss</td><td>116294.34494</td></tr><tr><td>val_accuracy</td><td>0.16317</td></tr><tr><td>val_loss</td><td>13027.56673</td></tr></table><br/></div></div>"
      ],
      "text/plain": [
       "<IPython.core.display.HTML object>"
      ]
     },
     "metadata": {},
     "output_type": "display_data"
    },
    {
     "data": {
      "text/html": [
       " View run <strong style=\"color:#cdcd00\">dulcet-sweep-5</strong> at: <a href='https://wandb.ai/cs20b013-bersilin/sweep-hyperparameters%20-%201/runs/el0iz3cf' target=\"_blank\">https://wandb.ai/cs20b013-bersilin/sweep-hyperparameters%20-%201/runs/el0iz3cf</a><br/>Synced 5 W&B file(s), 0 media file(s), 0 artifact file(s) and 0 other file(s)"
      ],
      "text/plain": [
       "<IPython.core.display.HTML object>"
      ]
     },
     "metadata": {},
     "output_type": "display_data"
    },
    {
     "data": {
      "text/html": [
       "Find logs at: <code>./wandb/run-20230303_182256-el0iz3cf/logs</code>"
      ],
      "text/plain": [
       "<IPython.core.display.HTML object>"
      ]
     },
     "metadata": {},
     "output_type": "display_data"
    },
    {
     "name": "stderr",
     "output_type": "stream",
     "text": [
      "\u001b[34m\u001b[1mwandb\u001b[0m: Sweep Agent: Waiting for job.\n",
      "\u001b[34m\u001b[1mwandb\u001b[0m: Job received.\n",
      "\u001b[34m\u001b[1mwandb\u001b[0m: Agent Starting Run: t5rc2civ with config:\n",
      "\u001b[34m\u001b[1mwandb\u001b[0m: \tactivation: sigmoid\n",
      "\u001b[34m\u001b[1mwandb\u001b[0m: \tbatch_size: 64\n",
      "\u001b[34m\u001b[1mwandb\u001b[0m: \tbeta1: 0.9\n",
      "\u001b[34m\u001b[1mwandb\u001b[0m: \tbeta2: 0.999\n",
      "\u001b[34m\u001b[1mwandb\u001b[0m: \tepochs: 10\n",
      "\u001b[34m\u001b[1mwandb\u001b[0m: \tepsilon: 1e-08\n",
      "\u001b[34m\u001b[1mwandb\u001b[0m: \thidden_layers: 4\n",
      "\u001b[34m\u001b[1mwandb\u001b[0m: \tinput_size: 784\n",
      "\u001b[34m\u001b[1mwandb\u001b[0m: \tlearning_rate: 0.005\n",
      "\u001b[34m\u001b[1mwandb\u001b[0m: \tloss: cross_entropy\n",
      "\u001b[34m\u001b[1mwandb\u001b[0m: \tmomentum: 0.7\n",
      "\u001b[34m\u001b[1mwandb\u001b[0m: \tneurons: 256\n",
      "\u001b[34m\u001b[1mwandb\u001b[0m: \toptimiser: nag\n",
      "\u001b[34m\u001b[1mwandb\u001b[0m: \toutput_activation: softmax\n",
      "\u001b[34m\u001b[1mwandb\u001b[0m: \toutput_size: 10\n",
      "\u001b[34m\u001b[1mwandb\u001b[0m: \tweight_init: Xavier\n",
      "Failed to detect the name of this notebook, you can set it manually with the WANDB_NOTEBOOK_NAME environment variable to enable code saving.\n",
      "\u001b[34m\u001b[1mwandb\u001b[0m: \u001b[33mWARNING\u001b[0m Ignored wandb.init() arg project when running a sweep.\n"
     ]
    },
    {
     "data": {
      "text/html": [
       "Tracking run with wandb version 0.13.10"
      ],
      "text/plain": [
       "<IPython.core.display.HTML object>"
      ]
     },
     "metadata": {},
     "output_type": "display_data"
    },
    {
     "data": {
      "text/html": [
       "Run data is saved locally in <code>/home/bersi/Documents/CS6910 Assignments/CS6910-Assignment1/wandb/run-20230303_183006-t5rc2civ</code>"
      ],
      "text/plain": [
       "<IPython.core.display.HTML object>"
      ]
     },
     "metadata": {},
     "output_type": "display_data"
    },
    {
     "data": {
      "text/html": [
       "Syncing run <strong><a href='https://wandb.ai/cs20b013-bersilin/sweep-hyperparameters%20-%201/runs/t5rc2civ' target=\"_blank\">dark-sweep-6</a></strong> to <a href='https://wandb.ai/cs20b013-bersilin/sweep-hyperparameters%20-%201' target=\"_blank\">Weights & Biases</a> (<a href='https://wandb.me/run' target=\"_blank\">docs</a>)<br/>Sweep page: <a href='https://wandb.ai/cs20b013-bersilin/sweep-hyperparameters%20-%201/sweeps/o2wtxrd2' target=\"_blank\">https://wandb.ai/cs20b013-bersilin/sweep-hyperparameters%20-%201/sweeps/o2wtxrd2</a>"
      ],
      "text/plain": [
       "<IPython.core.display.HTML object>"
      ]
     },
     "metadata": {},
     "output_type": "display_data"
    },
    {
     "data": {
      "text/html": [
       " View project at <a href='https://wandb.ai/cs20b013-bersilin/sweep-hyperparameters%20-%201' target=\"_blank\">https://wandb.ai/cs20b013-bersilin/sweep-hyperparameters%20-%201</a>"
      ],
      "text/plain": [
       "<IPython.core.display.HTML object>"
      ]
     },
     "metadata": {},
     "output_type": "display_data"
    },
    {
     "data": {
      "text/html": [
       " View sweep at <a href='https://wandb.ai/cs20b013-bersilin/sweep-hyperparameters%20-%201/sweeps/o2wtxrd2' target=\"_blank\">https://wandb.ai/cs20b013-bersilin/sweep-hyperparameters%20-%201/sweeps/o2wtxrd2</a>"
      ],
      "text/plain": [
       "<IPython.core.display.HTML object>"
      ]
     },
     "metadata": {},
     "output_type": "display_data"
    },
    {
     "data": {
      "text/html": [
       " View run at <a href='https://wandb.ai/cs20b013-bersilin/sweep-hyperparameters%20-%201/runs/t5rc2civ' target=\"_blank\">https://wandb.ai/cs20b013-bersilin/sweep-hyperparameters%20-%201/runs/t5rc2civ</a>"
      ],
      "text/plain": [
       "<IPython.core.display.HTML object>"
      ]
     },
     "metadata": {},
     "output_type": "display_data"
    },
    {
     "name": "stdout",
     "output_type": "stream",
     "text": [
      "Initial Accuracy: 0.09385\n",
      "Epoch: 1, Loss: 39883.77521918508\n",
      "Accuracy: 0.7444814814814815\n",
      "Epoch: 2, Loss: 45271.68879927592\n",
      "Accuracy: 0.7533518518518518\n",
      "Epoch: 3, Loss: 35518.96636547117\n",
      "Accuracy: 0.7914074074074074\n",
      "Epoch: 4, Loss: 31376.805529203288\n",
      "Accuracy: 0.8218148148148148\n",
      "Epoch: 5, Loss: 34342.54931972489\n",
      "Accuracy: 0.8211481481481482\n",
      "Epoch: 6, Loss: 28463.955658266772\n",
      "Accuracy: 0.8390555555555556\n",
      "Epoch: 7, Loss: 25296.362544049098\n",
      "Accuracy: 0.8491111111111111\n",
      "Epoch: 8, Loss: 28847.33168436358\n",
      "Accuracy: 0.8402037037037037\n",
      "Epoch: 9, Loss: 25743.495307781508\n",
      "Accuracy: 0.8540185185185185\n",
      "Epoch: 10, Loss: 25089.275484539845\n",
      "Accuracy: 0.8541666666666666\n"
     ]
    },
    {
     "data": {
      "text/html": [
       "Waiting for W&B process to finish... <strong style=\"color:green\">(success).</strong>"
      ],
      "text/plain": [
       "<IPython.core.display.HTML object>"
      ]
     },
     "metadata": {},
     "output_type": "display_data"
    },
    {
     "data": {
      "application/vnd.jupyter.widget-view+json": {
       "model_id": "f145329c02c44577a5aa6b081af6a0ea",
       "version_major": 2,
       "version_minor": 0
      },
      "text/plain": [
       "VBox(children=(Label(value='0.003 MB of 0.003 MB uploaded (0.000 MB deduped)\\r'), FloatProgress(value=1.0, max…"
      ]
     },
     "metadata": {},
     "output_type": "display_data"
    },
    {
     "data": {
      "text/html": [
       "<style>\n",
       "    table.wandb td:nth-child(1) { padding: 0 10px; text-align: left ; width: auto;} td:nth-child(2) {text-align: left ; width: 100%}\n",
       "    .wandb-row { display: flex; flex-direction: row; flex-wrap: wrap; justify-content: flex-start; width: 100% }\n",
       "    .wandb-col { display: flex; flex-direction: column; flex-basis: 100%; flex: 1; padding: 10px; }\n",
       "    </style>\n",
       "<div class=\"wandb-row\"><div class=\"wandb-col\"><h3>Run history:</h3><br/><table class=\"wandb\"><tr><td>epoch</td><td>▁▂▃▃▄▅▆▆▇█</td></tr><tr><td>train_accuracy</td><td>▁▂▄▆▆▇█▇██</td></tr><tr><td>train_loss</td><td>▆█▅▃▄▂▁▂▁▁</td></tr><tr><td>val_accuracy</td><td>▁▁▅▆▆▇▇▇██</td></tr><tr><td>val_loss</td><td>▆█▄▃▄▂▁▂▁▁</td></tr></table><br/></div><div class=\"wandb-col\"><h3>Run summary:</h3><br/><table class=\"wandb\"><tr><td>epoch</td><td>10</td></tr><tr><td>train_accuracy</td><td>0.85417</td></tr><tr><td>train_loss</td><td>25089.27548</td></tr><tr><td>val_accuracy</td><td>0.84117</td></tr><tr><td>val_loss</td><td>3132.3043</td></tr></table><br/></div></div>"
      ],
      "text/plain": [
       "<IPython.core.display.HTML object>"
      ]
     },
     "metadata": {},
     "output_type": "display_data"
    },
    {
     "data": {
      "text/html": [
       " View run <strong style=\"color:#cdcd00\">dark-sweep-6</strong> at: <a href='https://wandb.ai/cs20b013-bersilin/sweep-hyperparameters%20-%201/runs/t5rc2civ' target=\"_blank\">https://wandb.ai/cs20b013-bersilin/sweep-hyperparameters%20-%201/runs/t5rc2civ</a><br/>Synced 5 W&B file(s), 0 media file(s), 0 artifact file(s) and 0 other file(s)"
      ],
      "text/plain": [
       "<IPython.core.display.HTML object>"
      ]
     },
     "metadata": {},
     "output_type": "display_data"
    },
    {
     "data": {
      "text/html": [
       "Find logs at: <code>./wandb/run-20230303_183006-t5rc2civ/logs</code>"
      ],
      "text/plain": [
       "<IPython.core.display.HTML object>"
      ]
     },
     "metadata": {},
     "output_type": "display_data"
    },
    {
     "name": "stderr",
     "output_type": "stream",
     "text": [
      "\u001b[34m\u001b[1mwandb\u001b[0m: Agent Starting Run: tymxfhbb with config:\n",
      "\u001b[34m\u001b[1mwandb\u001b[0m: \tactivation: sigmoid\n",
      "\u001b[34m\u001b[1mwandb\u001b[0m: \tbatch_size: 128\n",
      "\u001b[34m\u001b[1mwandb\u001b[0m: \tbeta1: 0.9\n",
      "\u001b[34m\u001b[1mwandb\u001b[0m: \tbeta2: 0.999\n",
      "\u001b[34m\u001b[1mwandb\u001b[0m: \tepochs: 10\n",
      "\u001b[34m\u001b[1mwandb\u001b[0m: \tepsilon: 1e-08\n",
      "\u001b[34m\u001b[1mwandb\u001b[0m: \thidden_layers: 3\n",
      "\u001b[34m\u001b[1mwandb\u001b[0m: \tinput_size: 784\n",
      "\u001b[34m\u001b[1mwandb\u001b[0m: \tlearning_rate: 0.001\n",
      "\u001b[34m\u001b[1mwandb\u001b[0m: \tloss: cross_entropy\n",
      "\u001b[34m\u001b[1mwandb\u001b[0m: \tmomentum: 0.4\n",
      "\u001b[34m\u001b[1mwandb\u001b[0m: \tneurons: 256\n",
      "\u001b[34m\u001b[1mwandb\u001b[0m: \toptimiser: adam\n",
      "\u001b[34m\u001b[1mwandb\u001b[0m: \toutput_activation: softmax\n",
      "\u001b[34m\u001b[1mwandb\u001b[0m: \toutput_size: 10\n",
      "\u001b[34m\u001b[1mwandb\u001b[0m: \tweight_init: Xavier\n",
      "Failed to detect the name of this notebook, you can set it manually with the WANDB_NOTEBOOK_NAME environment variable to enable code saving.\n",
      "\u001b[34m\u001b[1mwandb\u001b[0m: \u001b[33mWARNING\u001b[0m Ignored wandb.init() arg project when running a sweep.\n"
     ]
    },
    {
     "data": {
      "text/html": [
       "Tracking run with wandb version 0.13.10"
      ],
      "text/plain": [
       "<IPython.core.display.HTML object>"
      ]
     },
     "metadata": {},
     "output_type": "display_data"
    },
    {
     "data": {
      "text/html": [
       "Run data is saved locally in <code>/home/bersi/Documents/CS6910 Assignments/CS6910-Assignment1/wandb/run-20230303_183148-tymxfhbb</code>"
      ],
      "text/plain": [
       "<IPython.core.display.HTML object>"
      ]
     },
     "metadata": {},
     "output_type": "display_data"
    },
    {
     "data": {
      "text/html": [
       "Syncing run <strong><a href='https://wandb.ai/cs20b013-bersilin/sweep-hyperparameters%20-%201/runs/tymxfhbb' target=\"_blank\">woven-sweep-7</a></strong> to <a href='https://wandb.ai/cs20b013-bersilin/sweep-hyperparameters%20-%201' target=\"_blank\">Weights & Biases</a> (<a href='https://wandb.me/run' target=\"_blank\">docs</a>)<br/>Sweep page: <a href='https://wandb.ai/cs20b013-bersilin/sweep-hyperparameters%20-%201/sweeps/o2wtxrd2' target=\"_blank\">https://wandb.ai/cs20b013-bersilin/sweep-hyperparameters%20-%201/sweeps/o2wtxrd2</a>"
      ],
      "text/plain": [
       "<IPython.core.display.HTML object>"
      ]
     },
     "metadata": {},
     "output_type": "display_data"
    },
    {
     "data": {
      "text/html": [
       " View project at <a href='https://wandb.ai/cs20b013-bersilin/sweep-hyperparameters%20-%201' target=\"_blank\">https://wandb.ai/cs20b013-bersilin/sweep-hyperparameters%20-%201</a>"
      ],
      "text/plain": [
       "<IPython.core.display.HTML object>"
      ]
     },
     "metadata": {},
     "output_type": "display_data"
    },
    {
     "data": {
      "text/html": [
       " View sweep at <a href='https://wandb.ai/cs20b013-bersilin/sweep-hyperparameters%20-%201/sweeps/o2wtxrd2' target=\"_blank\">https://wandb.ai/cs20b013-bersilin/sweep-hyperparameters%20-%201/sweeps/o2wtxrd2</a>"
      ],
      "text/plain": [
       "<IPython.core.display.HTML object>"
      ]
     },
     "metadata": {},
     "output_type": "display_data"
    },
    {
     "data": {
      "text/html": [
       " View run at <a href='https://wandb.ai/cs20b013-bersilin/sweep-hyperparameters%20-%201/runs/tymxfhbb' target=\"_blank\">https://wandb.ai/cs20b013-bersilin/sweep-hyperparameters%20-%201/runs/tymxfhbb</a>"
      ],
      "text/plain": [
       "<IPython.core.display.HTML object>"
      ]
     },
     "metadata": {},
     "output_type": "display_data"
    },
    {
     "name": "stdout",
     "output_type": "stream",
     "text": [
      "Initial Accuracy: 0.08375\n",
      "Epoch: 1, Loss: 39120.19992129665\n",
      "Accuracy: 0.7587222222222222\n",
      "Epoch: 2, Loss: 33833.27837790008\n",
      "Accuracy: 0.7861296296296296\n",
      "Epoch: 3, Loss: 31233.482778888945\n",
      "Accuracy: 0.7996481481481481\n",
      "Epoch: 4, Loss: 29463.985385927775\n",
      "Accuracy: 0.8088888888888889\n",
      "Epoch: 5, Loss: 28097.131064159028\n",
      "Accuracy: 0.8171666666666667\n",
      "Epoch: 6, Loss: 26962.37299443844\n",
      "Accuracy: 0.8242962962962963\n",
      "Epoch: 7, Loss: 25987.49191890988\n",
      "Accuracy: 0.8308148148148148\n",
      "Epoch: 8, Loss: 25129.28685476584\n",
      "Accuracy: 0.8363148148148148\n",
      "Epoch: 9, Loss: 24354.262588866826\n",
      "Accuracy: 0.8414444444444444\n",
      "Epoch: 10, Loss: 23645.67462628403\n",
      "Accuracy: 0.8453888888888889\n"
     ]
    },
    {
     "data": {
      "text/html": [
       "Waiting for W&B process to finish... <strong style=\"color:green\">(success).</strong>"
      ],
      "text/plain": [
       "<IPython.core.display.HTML object>"
      ]
     },
     "metadata": {},
     "output_type": "display_data"
    },
    {
     "data": {
      "application/vnd.jupyter.widget-view+json": {
       "model_id": "300c038e27594f02b4a0242f34330707",
       "version_major": 2,
       "version_minor": 0
      },
      "text/plain": [
       "VBox(children=(Label(value='0.003 MB of 0.004 MB uploaded (0.000 MB deduped)\\r'), FloatProgress(value=0.834003…"
      ]
     },
     "metadata": {},
     "output_type": "display_data"
    },
    {
     "data": {
      "text/html": [
       "<style>\n",
       "    table.wandb td:nth-child(1) { padding: 0 10px; text-align: left ; width: auto;} td:nth-child(2) {text-align: left ; width: 100%}\n",
       "    .wandb-row { display: flex; flex-direction: row; flex-wrap: wrap; justify-content: flex-start; width: 100% }\n",
       "    .wandb-col { display: flex; flex-direction: column; flex-basis: 100%; flex: 1; padding: 10px; }\n",
       "    </style>\n",
       "<div class=\"wandb-row\"><div class=\"wandb-col\"><h3>Run history:</h3><br/><table class=\"wandb\"><tr><td>epoch</td><td>▁▂▃▃▄▅▆▆▇█</td></tr><tr><td>train_accuracy</td><td>▁▃▄▅▆▆▇▇██</td></tr><tr><td>train_loss</td><td>█▆▄▄▃▃▂▂▁▁</td></tr><tr><td>val_accuracy</td><td>▁▄▅▆▆▇▇███</td></tr><tr><td>val_loss</td><td>█▅▄▃▃▂▂▁▁▁</td></tr></table><br/></div><div class=\"wandb-col\"><h3>Run summary:</h3><br/><table class=\"wandb\"><tr><td>epoch</td><td>10</td></tr><tr><td>train_accuracy</td><td>0.84539</td></tr><tr><td>train_loss</td><td>23645.67463</td></tr><tr><td>val_accuracy</td><td>0.79683</td></tr><tr><td>val_loss</td><td>3507.78884</td></tr></table><br/></div></div>"
      ],
      "text/plain": [
       "<IPython.core.display.HTML object>"
      ]
     },
     "metadata": {},
     "output_type": "display_data"
    },
    {
     "data": {
      "text/html": [
       " View run <strong style=\"color:#cdcd00\">woven-sweep-7</strong> at: <a href='https://wandb.ai/cs20b013-bersilin/sweep-hyperparameters%20-%201/runs/tymxfhbb' target=\"_blank\">https://wandb.ai/cs20b013-bersilin/sweep-hyperparameters%20-%201/runs/tymxfhbb</a><br/>Synced 5 W&B file(s), 0 media file(s), 0 artifact file(s) and 0 other file(s)"
      ],
      "text/plain": [
       "<IPython.core.display.HTML object>"
      ]
     },
     "metadata": {},
     "output_type": "display_data"
    },
    {
     "data": {
      "text/html": [
       "Find logs at: <code>./wandb/run-20230303_183148-tymxfhbb/logs</code>"
      ],
      "text/plain": [
       "<IPython.core.display.HTML object>"
      ]
     },
     "metadata": {},
     "output_type": "display_data"
    },
    {
     "name": "stderr",
     "output_type": "stream",
     "text": [
      "\u001b[34m\u001b[1mwandb\u001b[0m: Agent Starting Run: qqh179o8 with config:\n",
      "\u001b[34m\u001b[1mwandb\u001b[0m: \tactivation: tanh\n",
      "\u001b[34m\u001b[1mwandb\u001b[0m: \tbatch_size: 16\n",
      "\u001b[34m\u001b[1mwandb\u001b[0m: \tbeta1: 0.9\n",
      "\u001b[34m\u001b[1mwandb\u001b[0m: \tbeta2: 0.999\n",
      "\u001b[34m\u001b[1mwandb\u001b[0m: \tepochs: 10\n",
      "\u001b[34m\u001b[1mwandb\u001b[0m: \tepsilon: 1e-08\n",
      "\u001b[34m\u001b[1mwandb\u001b[0m: \thidden_layers: 3\n",
      "\u001b[34m\u001b[1mwandb\u001b[0m: \tinput_size: 784\n",
      "\u001b[34m\u001b[1mwandb\u001b[0m: \tlearning_rate: 0.005\n",
      "\u001b[34m\u001b[1mwandb\u001b[0m: \tloss: cross_entropy\n",
      "\u001b[34m\u001b[1mwandb\u001b[0m: \tmomentum: 0.5\n",
      "\u001b[34m\u001b[1mwandb\u001b[0m: \tneurons: 128\n",
      "\u001b[34m\u001b[1mwandb\u001b[0m: \toptimiser: adam\n",
      "\u001b[34m\u001b[1mwandb\u001b[0m: \toutput_activation: softmax\n",
      "\u001b[34m\u001b[1mwandb\u001b[0m: \toutput_size: 10\n",
      "\u001b[34m\u001b[1mwandb\u001b[0m: \tweight_init: random\n",
      "Failed to detect the name of this notebook, you can set it manually with the WANDB_NOTEBOOK_NAME environment variable to enable code saving.\n",
      "\u001b[34m\u001b[1mwandb\u001b[0m: \u001b[33mWARNING\u001b[0m Ignored wandb.init() arg project when running a sweep.\n"
     ]
    },
    {
     "data": {
      "text/html": [
       "Tracking run with wandb version 0.13.10"
      ],
      "text/plain": [
       "<IPython.core.display.HTML object>"
      ]
     },
     "metadata": {},
     "output_type": "display_data"
    },
    {
     "data": {
      "text/html": [
       "Run data is saved locally in <code>/home/bersi/Documents/CS6910 Assignments/CS6910-Assignment1/wandb/run-20230303_183320-qqh179o8</code>"
      ],
      "text/plain": [
       "<IPython.core.display.HTML object>"
      ]
     },
     "metadata": {},
     "output_type": "display_data"
    },
    {
     "data": {
      "text/html": [
       "Syncing run <strong><a href='https://wandb.ai/cs20b013-bersilin/sweep-hyperparameters%20-%201/runs/qqh179o8' target=\"_blank\">graceful-sweep-8</a></strong> to <a href='https://wandb.ai/cs20b013-bersilin/sweep-hyperparameters%20-%201' target=\"_blank\">Weights & Biases</a> (<a href='https://wandb.me/run' target=\"_blank\">docs</a>)<br/>Sweep page: <a href='https://wandb.ai/cs20b013-bersilin/sweep-hyperparameters%20-%201/sweeps/o2wtxrd2' target=\"_blank\">https://wandb.ai/cs20b013-bersilin/sweep-hyperparameters%20-%201/sweeps/o2wtxrd2</a>"
      ],
      "text/plain": [
       "<IPython.core.display.HTML object>"
      ]
     },
     "metadata": {},
     "output_type": "display_data"
    },
    {
     "data": {
      "text/html": [
       " View project at <a href='https://wandb.ai/cs20b013-bersilin/sweep-hyperparameters%20-%201' target=\"_blank\">https://wandb.ai/cs20b013-bersilin/sweep-hyperparameters%20-%201</a>"
      ],
      "text/plain": [
       "<IPython.core.display.HTML object>"
      ]
     },
     "metadata": {},
     "output_type": "display_data"
    },
    {
     "data": {
      "text/html": [
       " View sweep at <a href='https://wandb.ai/cs20b013-bersilin/sweep-hyperparameters%20-%201/sweeps/o2wtxrd2' target=\"_blank\">https://wandb.ai/cs20b013-bersilin/sweep-hyperparameters%20-%201/sweeps/o2wtxrd2</a>"
      ],
      "text/plain": [
       "<IPython.core.display.HTML object>"
      ]
     },
     "metadata": {},
     "output_type": "display_data"
    },
    {
     "data": {
      "text/html": [
       " View run at <a href='https://wandb.ai/cs20b013-bersilin/sweep-hyperparameters%20-%201/runs/qqh179o8' target=\"_blank\">https://wandb.ai/cs20b013-bersilin/sweep-hyperparameters%20-%201/runs/qqh179o8</a>"
      ],
      "text/plain": [
       "<IPython.core.display.HTML object>"
      ]
     },
     "metadata": {},
     "output_type": "display_data"
    },
    {
     "name": "stdout",
     "output_type": "stream",
     "text": [
      "Initial Accuracy: 0.06463333333333333\n",
      "Epoch: 1, Loss: 47640.824303726484\n",
      "Accuracy: 0.6670555555555555\n",
      "Epoch: 2, Loss: 40440.758432958646\n",
      "Accuracy: 0.7194259259259259\n",
      "Epoch: 3, Loss: 36885.921870632425\n",
      "Accuracy: 0.7539074074074074\n",
      "Epoch: 4, Loss: 34985.53262583888\n",
      "Accuracy: 0.7658888888888888\n",
      "Epoch: 5, Loss: 32455.60166690682\n",
      "Accuracy: 0.7867037037037037\n",
      "Epoch: 6, Loss: 31294.815173617983\n",
      "Accuracy: 0.7915555555555556\n",
      "Epoch: 7, Loss: 29485.178326707763\n",
      "Accuracy: 0.808962962962963\n",
      "Epoch: 8, Loss: 29135.8851079936\n",
      "Accuracy: 0.8094814814814815\n",
      "Epoch: 9, Loss: 28845.17371057467\n",
      "Accuracy: 0.8154814814814815\n",
      "Epoch: 10, Loss: 27688.13338324335\n",
      "Accuracy: 0.8202777777777778\n"
     ]
    },
    {
     "data": {
      "text/html": [
       "Waiting for W&B process to finish... <strong style=\"color:green\">(success).</strong>"
      ],
      "text/plain": [
       "<IPython.core.display.HTML object>"
      ]
     },
     "metadata": {},
     "output_type": "display_data"
    },
    {
     "data": {
      "application/vnd.jupyter.widget-view+json": {
       "model_id": "0eb5aed94890425b8ebce7863d958643",
       "version_major": 2,
       "version_minor": 0
      },
      "text/plain": [
       "VBox(children=(Label(value='0.003 MB of 0.003 MB uploaded (0.000 MB deduped)\\r'), FloatProgress(value=1.0, max…"
      ]
     },
     "metadata": {},
     "output_type": "display_data"
    },
    {
     "data": {
      "text/html": [
       "<style>\n",
       "    table.wandb td:nth-child(1) { padding: 0 10px; text-align: left ; width: auto;} td:nth-child(2) {text-align: left ; width: 100%}\n",
       "    .wandb-row { display: flex; flex-direction: row; flex-wrap: wrap; justify-content: flex-start; width: 100% }\n",
       "    .wandb-col { display: flex; flex-direction: column; flex-basis: 100%; flex: 1; padding: 10px; }\n",
       "    </style>\n",
       "<div class=\"wandb-row\"><div class=\"wandb-col\"><h3>Run history:</h3><br/><table class=\"wandb\"><tr><td>epoch</td><td>▁▂▃▃▄▅▆▆▇█</td></tr><tr><td>train_accuracy</td><td>▁▃▅▆▆▇▇███</td></tr><tr><td>train_loss</td><td>█▅▄▄▃▂▂▂▁▁</td></tr><tr><td>val_accuracy</td><td>▁▃▅▆▇▇▇▇██</td></tr><tr><td>val_loss</td><td>█▆▄▃▃▂▂▁▁▁</td></tr></table><br/></div><div class=\"wandb-col\"><h3>Run summary:</h3><br/><table class=\"wandb\"><tr><td>epoch</td><td>10</td></tr><tr><td>train_accuracy</td><td>0.82028</td></tr><tr><td>train_loss</td><td>27688.13338</td></tr><tr><td>val_accuracy</td><td>0.80383</td></tr><tr><td>val_loss</td><td>3243.88723</td></tr></table><br/></div></div>"
      ],
      "text/plain": [
       "<IPython.core.display.HTML object>"
      ]
     },
     "metadata": {},
     "output_type": "display_data"
    },
    {
     "data": {
      "text/html": [
       " View run <strong style=\"color:#cdcd00\">graceful-sweep-8</strong> at: <a href='https://wandb.ai/cs20b013-bersilin/sweep-hyperparameters%20-%201/runs/qqh179o8' target=\"_blank\">https://wandb.ai/cs20b013-bersilin/sweep-hyperparameters%20-%201/runs/qqh179o8</a><br/>Synced 5 W&B file(s), 0 media file(s), 0 artifact file(s) and 0 other file(s)"
      ],
      "text/plain": [
       "<IPython.core.display.HTML object>"
      ]
     },
     "metadata": {},
     "output_type": "display_data"
    },
    {
     "data": {
      "text/html": [
       "Find logs at: <code>./wandb/run-20230303_183320-qqh179o8/logs</code>"
      ],
      "text/plain": [
       "<IPython.core.display.HTML object>"
      ]
     },
     "metadata": {},
     "output_type": "display_data"
    },
    {
     "name": "stderr",
     "output_type": "stream",
     "text": [
      "\u001b[34m\u001b[1mwandb\u001b[0m: Agent Starting Run: thal4wtm with config:\n",
      "\u001b[34m\u001b[1mwandb\u001b[0m: \tactivation: sigmoid\n",
      "\u001b[34m\u001b[1mwandb\u001b[0m: \tbatch_size: 32\n",
      "\u001b[34m\u001b[1mwandb\u001b[0m: \tbeta1: 0.9\n",
      "\u001b[34m\u001b[1mwandb\u001b[0m: \tbeta2: 0.999\n",
      "\u001b[34m\u001b[1mwandb\u001b[0m: \tepochs: 10\n",
      "\u001b[34m\u001b[1mwandb\u001b[0m: \tepsilon: 1e-08\n",
      "\u001b[34m\u001b[1mwandb\u001b[0m: \thidden_layers: 5\n",
      "\u001b[34m\u001b[1mwandb\u001b[0m: \tinput_size: 784\n",
      "\u001b[34m\u001b[1mwandb\u001b[0m: \tlearning_rate: 0.1\n",
      "\u001b[34m\u001b[1mwandb\u001b[0m: \tloss: cross_entropy\n",
      "\u001b[34m\u001b[1mwandb\u001b[0m: \tmomentum: 0.6\n",
      "\u001b[34m\u001b[1mwandb\u001b[0m: \tneurons: 1024\n",
      "\u001b[34m\u001b[1mwandb\u001b[0m: \toptimiser: rmsprop\n",
      "\u001b[34m\u001b[1mwandb\u001b[0m: \toutput_activation: softmax\n",
      "\u001b[34m\u001b[1mwandb\u001b[0m: \toutput_size: 10\n",
      "\u001b[34m\u001b[1mwandb\u001b[0m: \tweight_init: Xavier\n",
      "Failed to detect the name of this notebook, you can set it manually with the WANDB_NOTEBOOK_NAME environment variable to enable code saving.\n",
      "\u001b[34m\u001b[1mwandb\u001b[0m: \u001b[33mWARNING\u001b[0m Ignored wandb.init() arg project when running a sweep.\n"
     ]
    },
    {
     "data": {
      "text/html": [
       "Tracking run with wandb version 0.13.10"
      ],
      "text/plain": [
       "<IPython.core.display.HTML object>"
      ]
     },
     "metadata": {},
     "output_type": "display_data"
    },
    {
     "data": {
      "text/html": [
       "Run data is saved locally in <code>/home/bersi/Documents/CS6910 Assignments/CS6910-Assignment1/wandb/run-20230303_183640-thal4wtm</code>"
      ],
      "text/plain": [
       "<IPython.core.display.HTML object>"
      ]
     },
     "metadata": {},
     "output_type": "display_data"
    },
    {
     "data": {
      "text/html": [
       "Syncing run <strong><a href='https://wandb.ai/cs20b013-bersilin/sweep-hyperparameters%20-%201/runs/thal4wtm' target=\"_blank\">ancient-sweep-9</a></strong> to <a href='https://wandb.ai/cs20b013-bersilin/sweep-hyperparameters%20-%201' target=\"_blank\">Weights & Biases</a> (<a href='https://wandb.me/run' target=\"_blank\">docs</a>)<br/>Sweep page: <a href='https://wandb.ai/cs20b013-bersilin/sweep-hyperparameters%20-%201/sweeps/o2wtxrd2' target=\"_blank\">https://wandb.ai/cs20b013-bersilin/sweep-hyperparameters%20-%201/sweeps/o2wtxrd2</a>"
      ],
      "text/plain": [
       "<IPython.core.display.HTML object>"
      ]
     },
     "metadata": {},
     "output_type": "display_data"
    },
    {
     "data": {
      "text/html": [
       " View project at <a href='https://wandb.ai/cs20b013-bersilin/sweep-hyperparameters%20-%201' target=\"_blank\">https://wandb.ai/cs20b013-bersilin/sweep-hyperparameters%20-%201</a>"
      ],
      "text/plain": [
       "<IPython.core.display.HTML object>"
      ]
     },
     "metadata": {},
     "output_type": "display_data"
    },
    {
     "data": {
      "text/html": [
       " View sweep at <a href='https://wandb.ai/cs20b013-bersilin/sweep-hyperparameters%20-%201/sweeps/o2wtxrd2' target=\"_blank\">https://wandb.ai/cs20b013-bersilin/sweep-hyperparameters%20-%201/sweeps/o2wtxrd2</a>"
      ],
      "text/plain": [
       "<IPython.core.display.HTML object>"
      ]
     },
     "metadata": {},
     "output_type": "display_data"
    },
    {
     "data": {
      "text/html": [
       " View run at <a href='https://wandb.ai/cs20b013-bersilin/sweep-hyperparameters%20-%201/runs/thal4wtm' target=\"_blank\">https://wandb.ai/cs20b013-bersilin/sweep-hyperparameters%20-%201/runs/thal4wtm</a>"
      ],
      "text/plain": [
       "<IPython.core.display.HTML object>"
      ]
     },
     "metadata": {},
     "output_type": "display_data"
    },
    {
     "name": "stdout",
     "output_type": "stream",
     "text": [
      "Initial Accuracy: 0.12926666666666667\n",
      "Epoch: 1, Loss: 3869309.682079762\n",
      "Accuracy: 0.09985185185185186\n",
      "Epoch: 2, Loss: 3372100.557202969\n",
      "Accuracy: 0.09985185185185186\n",
      "Epoch: 3, Loss: 4415781.467917189\n",
      "Accuracy: 0.10018518518518518\n",
      "Epoch: 4, Loss: 5114257.004295293\n",
      "Accuracy: 0.0997962962962963\n",
      "Epoch: 5, Loss: 3436993.3762061093\n",
      "Accuracy: 0.10005555555555555\n",
      "Epoch: 6, Loss: 3492008.405449928\n",
      "Accuracy: 0.0997962962962963\n",
      "Epoch: 7, Loss: 3066453.4460261664\n",
      "Accuracy: 0.10024074074074074\n",
      "Epoch: 8, Loss: 2461533.6617397605\n",
      "Accuracy: 0.10018518518518518\n"
     ]
    },
    {
     "name": "stderr",
     "output_type": "stream",
     "text": [
      "\u001b[34m\u001b[1mwandb\u001b[0m: Ctrl + C detected. Stopping sweep.\n"
     ]
    }
   ],
   "source": [
    "wandb_id = wandb.sweep(sweep_configuration, project=\"sweep-hyperparameters - 1\")\n",
    "\n",
    "wandb.agent(wandb_id, function=train, count=500)"
   ]
  },
  {
   "cell_type": "code",
   "execution_count": null,
   "metadata": {},
   "outputs": [],
   "source": [
    "# x_train_reshape = x_train.reshape(x_train.shape[0], -1)\n",
    "\n",
    "# y_train_reshape = np.zeros((y_train.shape[0], 10))\n",
    "# y_train_reshape[np.arange(y_train.shape[0]), y_train] = 1 # one-hot encoding\n",
    "\n",
    "parameters = {\n",
    "    'input_size': 784,\n",
    "    'hidden_layers': 4,\n",
    "    'neurons': 128,\n",
    "    'output_size': 10,\n",
    "    'activation': 'tanh',\n",
    "    'output_activation': 'softmax',\n",
    "    'loss': 'cross_entropy',\n",
    "    'learning_rate': 0.0015,\n",
    "    'optimiser': 'sgd',\n",
    "    'momentum': 0.5,\n",
    "    'batch_size': 128,\n",
    "    'epsilon': 1e-8,\n",
    "    'beta1': 0.9,\n",
    "    'beta2': 0.999,\n",
    "    'epochs': 10,\n",
    "    'weight_init': 'Xavier'\n",
    "}\n",
    "\n",
    "# nn = train(x_train_reshape, y_train_reshape, parameters)"
   ]
  },
  {
   "cell_type": "code",
   "execution_count": null,
   "metadata": {},
   "outputs": [],
   "source": [
    "set(parameters.keys())  , set(sweep_configuration['parameters'].keys())"
   ]
  },
  {
   "cell_type": "code",
   "execution_count": null,
   "metadata": {},
   "outputs": [],
   "source": [
    "x_test_reshape = x_test.reshape(x_test.shape[0], -1)\n",
    "\n",
    "y_pred = nn.forward(x_test_reshape)\n",
    "print(\"Test Accuracy: {}\".format(np.sum(np.argmax(y_pred, axis=1) == y_test) / y_test.shape[0]))"
   ]
  },
  {
   "cell_type": "code",
   "execution_count": null,
   "metadata": {},
   "outputs": [],
   "source": []
  }
 ],
 "metadata": {
  "kernelspec": {
   "display_name": "Python 3",
   "language": "python",
   "name": "python3"
  },
  "language_info": {
   "codemirror_mode": {
    "name": "ipython",
    "version": 3
   },
   "file_extension": ".py",
   "mimetype": "text/x-python",
   "name": "python",
   "nbconvert_exporter": "python",
   "pygments_lexer": "ipython3",
   "version": "3.10.7"
  },
  "orig_nbformat": 4,
  "vscode": {
   "interpreter": {
    "hash": "916dbcbb3f70747c44a77c7bcd40155683ae19c65e1c03b4aa3499c5328201f1"
   }
  }
 },
 "nbformat": 4,
 "nbformat_minor": 2
}
